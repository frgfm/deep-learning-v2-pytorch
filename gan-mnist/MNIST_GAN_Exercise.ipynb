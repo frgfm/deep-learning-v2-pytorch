{
 "cells": [
  {
   "cell_type": "markdown",
   "metadata": {},
   "source": [
    "# Generative Adversarial Network\n",
    "\n",
    "In this notebook, we'll be building a generative adversarial network (GAN) trained on the MNIST dataset. From this, we'll be able to generate new handwritten digits!\n",
    "\n",
    "GANs were [first reported on](https://arxiv.org/abs/1406.2661) in 2014 from Ian Goodfellow and others in Yoshua Bengio's lab. Since then, GANs have exploded in popularity. Here are a few examples to check out:\n",
    "\n",
    "* [Pix2Pix](https://affinelayer.com/pixsrv/) \n",
    "* [CycleGAN & Pix2Pix in PyTorch, Jun-Yan Zhu](https://github.com/junyanz/pytorch-CycleGAN-and-pix2pix)\n",
    "* [A list of generative models](https://github.com/wiseodd/generative-models)\n",
    "\n",
    "The idea behind GANs is that you have two networks, a generator $G$ and a discriminator $D$, competing against each other. The generator makes \"fake\" data to pass to the discriminator. The discriminator also sees real training data and predicts if the data it's received is real or fake. \n",
    "> * The generator is trained to fool the discriminator, it wants to output data that looks _as close as possible_ to real, training data. \n",
    "* The discriminator is a classifier that is trained to figure out which data is real and which is fake. \n",
    "\n",
    "What ends up happening is that the generator learns to make data that is indistinguishable from real data to the discriminator.\n",
    "\n",
    "<img src='assets/gan_pipeline.png' width=70% />\n",
    "\n",
    "The general structure of a GAN is shown in the diagram above, using MNIST images as data. The latent sample is a random vector that the generator uses to construct its fake images. This is often called a **latent vector** and that vector space is called **latent space**. As the generator trains, it figures out how to map latent vectors to recognizable images that can fool the discriminator.\n",
    "\n",
    "If you're interested in generating only new images, you can throw out the discriminator after training. In this notebook, I'll show you how to define and train these adversarial networks in PyTorch and generate new images!"
   ]
  },
  {
   "cell_type": "code",
   "execution_count": 1,
   "metadata": {
    "ExecuteTime": {
     "end_time": "2019-04-27T21:27:55.943403Z",
     "start_time": "2019-04-27T21:27:55.135759Z"
    }
   },
   "outputs": [],
   "source": [
    "%matplotlib inline\n",
    "\n",
    "import numpy as np\n",
    "import torch\n",
    "import matplotlib.pyplot as plt"
   ]
  },
  {
   "cell_type": "code",
   "execution_count": 2,
   "metadata": {
    "ExecuteTime": {
     "end_time": "2019-04-27T21:28:00.663763Z",
     "start_time": "2019-04-27T21:27:56.481355Z"
    }
   },
   "outputs": [
    {
     "name": "stdout",
     "output_type": "stream",
     "text": [
      "Downloading http://yann.lecun.com/exdb/mnist/train-images-idx3-ubyte.gz\n",
      "Downloading http://yann.lecun.com/exdb/mnist/train-labels-idx1-ubyte.gz\n",
      "Downloading http://yann.lecun.com/exdb/mnist/t10k-images-idx3-ubyte.gz\n",
      "Downloading http://yann.lecun.com/exdb/mnist/t10k-labels-idx1-ubyte.gz\n",
      "Processing...\n",
      "Done!\n"
     ]
    }
   ],
   "source": [
    "from torchvision import datasets\n",
    "import torchvision.transforms as transforms\n",
    "\n",
    "# number of subprocesses to use for data loading\n",
    "num_workers = 0\n",
    "# how many samples per batch to load\n",
    "batch_size = 64\n",
    "\n",
    "# convert data to torch.FloatTensor\n",
    "transform = transforms.ToTensor()\n",
    "\n",
    "# get the training datasets\n",
    "train_data = datasets.MNIST(root='data', train=True,\n",
    "                                   download=True, transform=transform)\n",
    "\n",
    "# prepare data loader\n",
    "train_loader = torch.utils.data.DataLoader(train_data, batch_size=batch_size,\n",
    "                                           num_workers=num_workers)"
   ]
  },
  {
   "cell_type": "markdown",
   "metadata": {},
   "source": [
    "### Visualize the data"
   ]
  },
  {
   "cell_type": "code",
   "execution_count": 3,
   "metadata": {
    "ExecuteTime": {
     "end_time": "2019-04-27T21:28:10.091785Z",
     "start_time": "2019-04-27T21:28:09.959235Z"
    }
   },
   "outputs": [
    {
     "data": {
      "text/plain": [
       "<matplotlib.image.AxesImage at 0x7fcbeb596160>"
      ]
     },
     "execution_count": 3,
     "metadata": {},
     "output_type": "execute_result"
    },
    {
     "data": {
      "image/png": "[encoded data removed]",
      "text/plain": [
       "<Figure size 216x216 with 1 Axes>"
      ]
     },
     "metadata": {
      "needs_background": "light"
     },
     "output_type": "display_data"
    }
   ],
   "source": [
    "# obtain one batch of training images\n",
    "dataiter = iter(train_loader)\n",
    "images, labels = dataiter.next()\n",
    "images = images.numpy()\n",
    "\n",
    "# get one image from the batch\n",
    "img = np.squeeze(images[0])\n",
    "\n",
    "fig = plt.figure(figsize = (3,3)) \n",
    "ax = fig.add_subplot(111)\n",
    "ax.imshow(img, cmap='gray')"
   ]
  },
  {
   "cell_type": "markdown",
   "metadata": {},
   "source": [
    "---\n",
    "# Define the Model\n",
    "\n",
    "A GAN is comprised of two adversarial networks, a discriminator and a generator."
   ]
  },
  {
   "cell_type": "markdown",
   "metadata": {},
   "source": [
    "## Discriminator\n",
    "\n",
    "The discriminator network is going to be a pretty typical linear classifier. To make this network a universal function approximator, we'll need at least one hidden layer, and these hidden layers should have one key attribute:\n",
    "> All hidden layers will have a [Leaky ReLu](https://pytorch.org/docs/stable/nn.html#torch.nn.LeakyReLU) activation function applied to their outputs.\n",
    "\n",
    "<img src='assets/gan_network.png' width=70% />\n",
    "\n",
    "#### Leaky ReLu\n",
    "\n",
    "We should use a leaky ReLU to allow gradients to flow backwards through the layer unimpeded. A leaky ReLU is like a normal ReLU, except that there is a small non-zero output for negative input values.\n",
    "\n",
    "<img src='assets/leaky_relu.png' width=40% />\n",
    "\n",
    "#### Sigmoid Output\n",
    "\n",
    "We'll also take the approach of using a more numerically stable loss function on the outputs. Recall that we want the discriminator to output a value 0-1 indicating whether an image is _real or fake_. \n",
    "> We will ultimately use [BCEWithLogitsLoss](https://pytorch.org/docs/stable/nn.html#bcewithlogitsloss), which combines a `sigmoid` activation function **and** and binary cross entropy loss in one function. \n",
    "\n",
    "So, our final output layer should not have any activation function applied to it."
   ]
  },
  {
   "cell_type": "code",
   "execution_count": 4,
   "metadata": {
    "ExecuteTime": {
     "end_time": "2019-04-27T22:48:42.005113Z",
     "start_time": "2019-04-27T22:48:41.999499Z"
    }
   },
   "outputs": [],
   "source": [
    "import torch.nn as nn\n",
    "import torch.nn.functional as F\n",
    "\n",
    "class Discriminator(nn.Module):\n",
    "\n",
    "    def __init__(self, input_size, hidden_dim, output_size):\n",
    "        super(Discriminator, self).__init__()\n",
    "        \n",
    "        # define all layers\n",
    "        self.model = nn.Sequential(nn.Linear(input_size, hidden_dim * 4),\n",
    "                                   nn.LeakyReLU(0.2),\n",
    "                                   nn.Dropout(0.3),\n",
    "                                   nn.Linear(hidden_dim * 4, hidden_dim * 2),\n",
    "                                   nn.LeakyReLU(0.2),\n",
    "                                   nn.Dropout(0.3),\n",
    "                                   nn.Linear(hidden_dim * 2, hidden_dim),\n",
    "                                   nn.LeakyReLU(0.2),\n",
    "                                   nn.Dropout(0.3),\n",
    "                                   nn.Linear(hidden_dim, output_size))\n",
    "        \n",
    "        \n",
    "    def forward(self, x):\n",
    "        # flatten image\n",
    "        x = x.view(-1, 28*28)\n",
    "        \n",
    "        # pass x through all layers\n",
    "        # apply leaky relu activation to all hidden layers\n",
    "        x = self.model(x)\n",
    "\n",
    "        return x\n"
   ]
  },
  {
   "cell_type": "markdown",
   "metadata": {},
   "source": [
    "## Generator\n",
    "\n",
    "The generator network will be almost exactly the same as the discriminator network, except that we're applying a [tanh activation function](https://pytorch.org/docs/stable/nn.html#tanh) to our output layer.\n",
    "\n",
    "#### tanh Output\n",
    "The generator has been found to perform the best with $tanh$ for the generator output, which scales the output to be between -1 and 1, instead of 0 and 1. \n",
    "\n",
    "<img src='assets/tanh_fn.png' width=40% />\n",
    "\n",
    "Recall that we also want these outputs to be comparable to the *real* input pixel values, which are read in as normalized values between 0 and 1. \n",
    "> So, we'll also have to **scale our real input images to have pixel values between -1 and 1** when we train the discriminator. \n",
    "\n",
    "I'll do this in the training loop, later on."
   ]
  },
  {
   "cell_type": "code",
   "execution_count": 5,
   "metadata": {
    "ExecuteTime": {
     "end_time": "2019-04-27T22:48:47.523017Z",
     "start_time": "2019-04-27T22:48:47.518155Z"
    }
   },
   "outputs": [],
   "source": [
    "class Generator(nn.Module):\n",
    "\n",
    "    def __init__(self, input_size, hidden_dim, output_size):\n",
    "        super(Generator, self).__init__()\n",
    "        \n",
    "        # define all layers\n",
    "        self.model = nn.Sequential(nn.Linear(input_size, hidden_dim),\n",
    "                                   nn.LeakyReLU(0.2),\n",
    "                                   nn.Dropout(0.3),\n",
    "                                   nn.Linear(hidden_dim, hidden_dim * 2),\n",
    "                                   nn.LeakyReLU(0.2),\n",
    "                                   nn.Dropout(0.3),\n",
    "                                   nn.Linear(hidden_dim * 2, hidden_dim * 4),\n",
    "                                   nn.LeakyReLU(0.2),\n",
    "                                   nn.Dropout(0.3),\n",
    "                                   nn.Linear(hidden_dim * 4, output_size),\n",
    "                                   nn.Tanh())\n",
    "        \n",
    "\n",
    "    def forward(self, x):\n",
    "        # pass x through all layers\n",
    "        x = self.model(x)\n",
    "        \n",
    "        # final layer should have tanh applied\n",
    "        \n",
    "        return x"
   ]
  },
  {
   "cell_type": "markdown",
   "metadata": {},
   "source": [
    "## Model hyperparameters"
   ]
  },
  {
   "cell_type": "code",
   "execution_count": 6,
   "metadata": {
    "ExecuteTime": {
     "end_time": "2019-04-27T22:50:07.036490Z",
     "start_time": "2019-04-27T22:50:07.033313Z"
    }
   },
   "outputs": [],
   "source": [
    "# Discriminator hyperparams\n",
    "\n",
    "# Size of input image to discriminator (28*28)\n",
    "input_size = 28 * 28\n",
    "# Size of discriminator output (real or fake)\n",
    "d_output_size = 1\n",
    "# Size of *last* hidden layer in the discriminator\n",
    "d_hidden_size = 32\n",
    "\n",
    "# Generator hyperparams\n",
    "\n",
    "# Size of latent vector to give to generator\n",
    "z_size = 100\n",
    "# Size of discriminator output (generated image)\n",
    "g_output_size = 28 * 28\n",
    "# Size of *first* hidden layer in the generator\n",
    "g_hidden_size = 32"
   ]
  },
  {
   "cell_type": "markdown",
   "metadata": {},
   "source": [
    "## Build complete network\n",
    "\n",
    "Now we're instantiating the discriminator and generator from the classes defined above. Make sure you've passed in the correct input arguments."
   ]
  },
  {
   "cell_type": "code",
   "execution_count": 7,
   "metadata": {
    "ExecuteTime": {
     "end_time": "2019-04-27T22:50:15.370310Z",
     "start_time": "2019-04-27T22:50:15.348497Z"
    }
   },
   "outputs": [
    {
     "name": "stdout",
     "output_type": "stream",
     "text": [
      "Discriminator(\n",
      "  (model): Sequential(\n",
      "    (0): Linear(in_features=784, out_features=128, bias=True)\n",
      "    (1): LeakyReLU(negative_slope=0.2)\n",
      "    (2): Dropout(p=0.3)\n",
      "    (3): Linear(in_features=128, out_features=64, bias=True)\n",
      "    (4): LeakyReLU(negative_slope=0.2)\n",
      "    (5): Dropout(p=0.3)\n",
      "    (6): Linear(in_features=64, out_features=32, bias=True)\n",
      "    (7): LeakyReLU(negative_slope=0.2)\n",
      "    (8): Dropout(p=0.3)\n",
      "    (9): Linear(in_features=32, out_features=1, bias=True)\n",
      "  )\n",
      ")\n",
      "\n",
      "Generator(\n",
      "  (model): Sequential(\n",
      "    (0): Linear(in_features=100, out_features=32, bias=True)\n",
      "    (1): LeakyReLU(negative_slope=0.2)\n",
      "    (2): Dropout(p=0.3)\n",
      "    (3): Linear(in_features=32, out_features=64, bias=True)\n",
      "    (4): LeakyReLU(negative_slope=0.2)\n",
      "    (5): Dropout(p=0.3)\n",
      "    (6): Linear(in_features=64, out_features=128, bias=True)\n",
      "    (7): LeakyReLU(negative_slope=0.2)\n",
      "    (8): Dropout(p=0.3)\n",
      "    (9): Linear(in_features=128, out_features=784, bias=True)\n",
      "    (10): Tanh()\n",
      "  )\n",
      ")\n"
     ]
    }
   ],
   "source": [
    "# instantiate discriminator and generator\n",
    "D = Discriminator(input_size, d_hidden_size, d_output_size)\n",
    "G = Generator(z_size, g_hidden_size, g_output_size)\n",
    "\n",
    "# check that they are as you expect\n",
    "print(D)\n",
    "print()\n",
    "print(G)"
   ]
  },
  {
   "cell_type": "markdown",
   "metadata": {},
   "source": [
    "---\n",
    "## Discriminator and Generator Losses\n",
    "\n",
    "Now we need to calculate the losses. \n",
    "\n",
    "### Discriminator Losses\n",
    "\n",
    "> * For the discriminator, the total loss is the sum of the losses for real and fake images, `d_loss = d_real_loss + d_fake_loss`. \n",
    "* Remember that we want the discriminator to output 1 for real images and 0 for fake images, so we need to set up the losses to reflect that.\n",
    "\n",
    "<img src='assets/gan_pipeline.png' width=70% />\n",
    "\n",
    "The losses will by binary cross entropy loss with logits, which we can get with [BCEWithLogitsLoss](https://pytorch.org/docs/stable/nn.html#bcewithlogitsloss). This combines a `sigmoid` activation function **and** and binary cross entropy loss in one function.\n",
    "\n",
    "For the real images, we want `D(real_images) = 1`. That is, we want the discriminator to classify the the real images with a label = 1, indicating that these are real. To help the discriminator generalize better, the labels are **reduced a bit from 1.0 to 0.9**. For this, we'll use the parameter `smooth`; if True, then we should smooth our labels. In PyTorch, this looks like `labels = torch.ones(size) * 0.9`\n",
    "\n",
    "The discriminator loss for the fake data is similar. We want `D(fake_images) = 0`, where the fake images are the _generator output_, `fake_images = G(z)`. \n",
    "\n",
    "### Generator Loss\n",
    "\n",
    "The generator loss will look similar only with flipped labels. The generator's goal is to get `D(fake_images) = 1`. In this case, the labels are **flipped** to represent that the generator is trying to fool the discriminator into thinking that the images it generates (fakes) are real!"
   ]
  },
  {
   "cell_type": "code",
   "execution_count": 12,
   "metadata": {
    "ExecuteTime": {
     "end_time": "2019-04-27T23:17:26.635850Z",
     "start_time": "2019-04-27T23:17:26.632063Z"
    }
   },
   "outputs": [],
   "source": [
    "# Calculate losses\n",
    "def real_loss(D_out, smooth=False):\n",
    "    # compare logits to real labels\n",
    "    # smooth labels if smooth=True\n",
    "    labels = torch.ones(D_out.size(0))\n",
    "    if smooth:\n",
    "        labels = labels * 0.9\n",
    "    criterion = nn.BCEWithLogitsLoss()\n",
    "    loss = criterion(D_out.squeeze(), labels)\n",
    "    return loss\n",
    "\n",
    "def fake_loss(D_out):\n",
    "    # compare logits to fake labels\n",
    "    labels = torch.zeros(D_out.size(0))\n",
    "    criterion = nn.BCEWithLogitsLoss()\n",
    "    loss = criterion(D_out.squeeze(), labels)\n",
    "    return loss"
   ]
  },
  {
   "cell_type": "markdown",
   "metadata": {},
   "source": [
    "## Optimizers\n",
    "\n",
    "We want to update the generator and discriminator variables separately. So, we'll define two separate Adam optimizers."
   ]
  },
  {
   "cell_type": "code",
   "execution_count": 10,
   "metadata": {
    "ExecuteTime": {
     "end_time": "2019-04-27T23:01:59.024253Z",
     "start_time": "2019-04-27T23:01:59.021101Z"
    },
    "scrolled": true
   },
   "outputs": [],
   "source": [
    "import torch.optim as optim\n",
    "\n",
    "# learning rate for optimizers\n",
    "lr = 0.002\n",
    "\n",
    "# Create optimizers for the discriminator and generator\n",
    "d_optimizer = optim.Adam(D.parameters(), lr=lr)\n",
    "g_optimizer = optim.Adam(G.parameters(), lr=lr)"
   ]
  },
  {
   "cell_type": "markdown",
   "metadata": {},
   "source": [
    "---\n",
    "## Training\n",
    "\n",
    "Training will involve alternating between training the discriminator and the generator. We'll use our functions `real_loss` and `fake_loss` to help us calculate the discriminator losses in all of the following cases.\n",
    "\n",
    "### Discriminator training\n",
    "1. Compute the discriminator loss on real, training images        \n",
    "2. Generate fake images\n",
    "3. Compute the discriminator loss on fake, generated images     \n",
    "4. Add up real and fake loss\n",
    "5. Perform backpropagation + an optimization step to update the discriminator's weights\n",
    "\n",
    "### Generator training\n",
    "1. Generate fake images\n",
    "2. Compute the discriminator loss on fake images, using **flipped** labels!\n",
    "3. Perform backpropagation + an optimization step to update the generator's weights\n",
    "\n",
    "#### Saving Samples\n",
    "\n",
    "As we train, we'll also print out some loss statistics and save some generated \"fake\" samples."
   ]
  },
  {
   "cell_type": "code",
   "execution_count": 13,
   "metadata": {
    "ExecuteTime": {
     "end_time": "2019-04-27T23:49:41.209745Z",
     "start_time": "2019-04-27T23:17:29.525354Z"
    },
    "scrolled": true
   },
   "outputs": [
    {
     "name": "stdout",
     "output_type": "stream",
     "text": [
      "Epoch [    1/  100] | d_loss: 1.4051 | g_loss: 0.6251\n",
      "Epoch [    1/  100] | d_loss: 0.6693 | g_loss: 5.5244\n",
      "Epoch [    1/  100] | d_loss: 1.5592 | g_loss: 0.8043\n",
      "Epoch [    2/  100] | d_loss: 1.1562 | g_loss: 1.1200\n",
      "Epoch [    2/  100] | d_loss: 1.3090 | g_loss: 0.8598\n",
      "Epoch [    2/  100] | d_loss: 1.2825 | g_loss: 2.2308\n",
      "Epoch [    3/  100] | d_loss: 1.3624 | g_loss: 0.7192\n",
      "Epoch [    3/  100] | d_loss: 1.1286 | g_loss: 1.0285\n",
      "Epoch [    3/  100] | d_loss: 1.2212 | g_loss: 1.0936\n",
      "Epoch [    4/  100] | d_loss: 0.9584 | g_loss: 3.5991\n",
      "Epoch [    4/  100] | d_loss: 1.0809 | g_loss: 1.2310\n",
      "Epoch [    4/  100] | d_loss: 1.2854 | g_loss: 1.3127\n",
      "Epoch [    5/  100] | d_loss: 1.2058 | g_loss: 2.4273\n",
      "Epoch [    5/  100] | d_loss: 1.0887 | g_loss: 1.1507\n",
      "Epoch [    5/  100] | d_loss: 1.3118 | g_loss: 0.7972\n",
      "Epoch [    6/  100] | d_loss: 1.1471 | g_loss: 2.1406\n",
      "Epoch [    6/  100] | d_loss: 1.2037 | g_loss: 1.1675\n",
      "Epoch [    6/  100] | d_loss: 1.0450 | g_loss: 3.6421\n",
      "Epoch [    7/  100] | d_loss: 1.3241 | g_loss: 1.1072\n",
      "Epoch [    7/  100] | d_loss: 1.1619 | g_loss: 1.3356\n",
      "Epoch [    7/  100] | d_loss: 1.1342 | g_loss: 1.1925\n",
      "Epoch [    8/  100] | d_loss: 1.7763 | g_loss: 2.1413\n",
      "Epoch [    8/  100] | d_loss: 1.0847 | g_loss: 1.8301\n",
      "Epoch [    8/  100] | d_loss: 0.9980 | g_loss: 6.2541\n",
      "Epoch [    9/  100] | d_loss: 1.2226 | g_loss: 1.5644\n",
      "Epoch [    9/  100] | d_loss: 0.9525 | g_loss: 2.2155\n",
      "Epoch [    9/  100] | d_loss: 1.0524 | g_loss: 2.1405\n",
      "Epoch [   10/  100] | d_loss: 1.1923 | g_loss: 1.8150\n",
      "Epoch [   10/  100] | d_loss: 1.1717 | g_loss: 1.5456\n",
      "Epoch [   10/  100] | d_loss: 1.0757 | g_loss: 1.4037\n",
      "Epoch [   11/  100] | d_loss: 1.0605 | g_loss: 1.8429\n",
      "Epoch [   11/  100] | d_loss: 1.0953 | g_loss: 1.3940\n",
      "Epoch [   11/  100] | d_loss: 1.1294 | g_loss: 1.6131\n",
      "Epoch [   12/  100] | d_loss: 1.1043 | g_loss: 1.3770\n",
      "Epoch [   12/  100] | d_loss: 1.2199 | g_loss: 1.2390\n",
      "Epoch [   12/  100] | d_loss: 1.0986 | g_loss: 1.5304\n",
      "Epoch [   13/  100] | d_loss: 1.2837 | g_loss: 0.9347\n",
      "Epoch [   13/  100] | d_loss: 1.1377 | g_loss: 0.9388\n",
      "Epoch [   13/  100] | d_loss: 1.0448 | g_loss: 0.9943\n",
      "Epoch [   14/  100] | d_loss: 1.3008 | g_loss: 1.3333\n",
      "Epoch [   14/  100] | d_loss: 1.1602 | g_loss: 1.3857\n",
      "Epoch [   14/  100] | d_loss: 1.1476 | g_loss: 1.0516\n",
      "Epoch [   15/  100] | d_loss: 1.2103 | g_loss: 1.0406\n",
      "Epoch [   15/  100] | d_loss: 1.2580 | g_loss: 0.9718\n",
      "Epoch [   15/  100] | d_loss: 1.1801 | g_loss: 0.9964\n",
      "Epoch [   16/  100] | d_loss: 1.2667 | g_loss: 0.9710\n",
      "Epoch [   16/  100] | d_loss: 1.0493 | g_loss: 1.1889\n",
      "Epoch [   16/  100] | d_loss: 1.2534 | g_loss: 1.4465\n",
      "Epoch [   17/  100] | d_loss: 1.3051 | g_loss: 0.8445\n",
      "Epoch [   17/  100] | d_loss: 1.3022 | g_loss: 0.9840\n",
      "Epoch [   17/  100] | d_loss: 1.3134 | g_loss: 0.9231\n",
      "Epoch [   18/  100] | d_loss: 1.3402 | g_loss: 0.8481\n",
      "Epoch [   18/  100] | d_loss: 1.1879 | g_loss: 1.6591\n",
      "Epoch [   18/  100] | d_loss: 1.2765 | g_loss: 1.0025\n",
      "Epoch [   19/  100] | d_loss: 1.2424 | g_loss: 1.0074\n",
      "Epoch [   19/  100] | d_loss: 1.1656 | g_loss: 1.0715\n",
      "Epoch [   19/  100] | d_loss: 1.2995 | g_loss: 0.9731\n",
      "Epoch [   20/  100] | d_loss: 1.3380 | g_loss: 1.0790\n",
      "Epoch [   20/  100] | d_loss: 1.2782 | g_loss: 0.9296\n",
      "Epoch [   20/  100] | d_loss: 1.3139 | g_loss: 0.9670\n",
      "Epoch [   21/  100] | d_loss: 1.2984 | g_loss: 1.0405\n",
      "Epoch [   21/  100] | d_loss: 1.3109 | g_loss: 0.9975\n",
      "Epoch [   21/  100] | d_loss: 1.3231 | g_loss: 1.1952\n",
      "Epoch [   22/  100] | d_loss: 1.3250 | g_loss: 0.9543\n",
      "Epoch [   22/  100] | d_loss: 1.2311 | g_loss: 1.1160\n",
      "Epoch [   22/  100] | d_loss: 1.2780 | g_loss: 1.4533\n",
      "Epoch [   23/  100] | d_loss: 1.4024 | g_loss: 0.9747\n",
      "Epoch [   23/  100] | d_loss: 1.2596 | g_loss: 1.1289\n",
      "Epoch [   23/  100] | d_loss: 1.3449 | g_loss: 0.9097\n",
      "Epoch [   24/  100] | d_loss: 1.4165 | g_loss: 1.2171\n",
      "Epoch [   24/  100] | d_loss: 1.4119 | g_loss: 0.8583\n",
      "Epoch [   24/  100] | d_loss: 1.3399 | g_loss: 1.0235\n",
      "Epoch [   25/  100] | d_loss: 1.2180 | g_loss: 1.0877\n",
      "Epoch [   25/  100] | d_loss: 1.3320 | g_loss: 1.0306\n",
      "Epoch [   25/  100] | d_loss: 1.1998 | g_loss: 0.9533\n",
      "Epoch [   26/  100] | d_loss: 1.2916 | g_loss: 0.9327\n",
      "Epoch [   26/  100] | d_loss: 1.2867 | g_loss: 0.9882\n",
      "Epoch [   26/  100] | d_loss: 1.4736 | g_loss: 1.2943\n",
      "Epoch [   27/  100] | d_loss: 1.2212 | g_loss: 1.3530\n",
      "Epoch [   27/  100] | d_loss: 1.2374 | g_loss: 1.1628\n",
      "Epoch [   27/  100] | d_loss: 1.2391 | g_loss: 1.0866\n",
      "Epoch [   28/  100] | d_loss: 1.2385 | g_loss: 0.9038\n",
      "Epoch [   28/  100] | d_loss: 1.1908 | g_loss: 1.4095\n",
      "Epoch [   28/  100] | d_loss: 1.3879 | g_loss: 0.9231\n",
      "Epoch [   29/  100] | d_loss: 1.2321 | g_loss: 1.1167\n",
      "Epoch [   29/  100] | d_loss: 1.2481 | g_loss: 0.8595\n",
      "Epoch [   29/  100] | d_loss: 1.3761 | g_loss: 0.8980\n",
      "Epoch [   30/  100] | d_loss: 1.2100 | g_loss: 1.3527\n",
      "Epoch [   30/  100] | d_loss: 1.3125 | g_loss: 1.0194\n",
      "Epoch [   30/  100] | d_loss: 1.1682 | g_loss: 1.7350\n",
      "Epoch [   31/  100] | d_loss: 1.3286 | g_loss: 0.9380\n",
      "Epoch [   31/  100] | d_loss: 1.2723 | g_loss: 1.0586\n",
      "Epoch [   31/  100] | d_loss: 1.2695 | g_loss: 0.8402\n",
      "Epoch [   32/  100] | d_loss: 1.3907 | g_loss: 1.0587\n",
      "Epoch [   32/  100] | d_loss: 1.3190 | g_loss: 1.0054\n",
      "Epoch [   32/  100] | d_loss: 1.4055 | g_loss: 1.1521\n",
      "Epoch [   33/  100] | d_loss: 1.2591 | g_loss: 1.1417\n",
      "Epoch [   33/  100] | d_loss: 1.4041 | g_loss: 0.9960\n",
      "Epoch [   33/  100] | d_loss: 1.2730 | g_loss: 0.9635\n",
      "Epoch [   34/  100] | d_loss: 1.3013 | g_loss: 1.1493\n",
      "Epoch [   34/  100] | d_loss: 1.2304 | g_loss: 0.9757\n",
      "Epoch [   34/  100] | d_loss: 1.3045 | g_loss: 0.8991\n",
      "Epoch [   35/  100] | d_loss: 1.2905 | g_loss: 0.9973\n",
      "Epoch [   35/  100] | d_loss: 1.2948 | g_loss: 0.9991\n",
      "Epoch [   35/  100] | d_loss: 1.2114 | g_loss: 1.1032\n",
      "Epoch [   36/  100] | d_loss: 1.3710 | g_loss: 1.1471\n",
      "Epoch [   36/  100] | d_loss: 1.2245 | g_loss: 1.1593\n",
      "Epoch [   36/  100] | d_loss: 1.2017 | g_loss: 1.1638\n",
      "Epoch [   37/  100] | d_loss: 1.2058 | g_loss: 1.4912\n",
      "Epoch [   37/  100] | d_loss: 1.2469 | g_loss: 0.8837\n",
      "Epoch [   37/  100] | d_loss: 1.3584 | g_loss: 1.1277\n",
      "Epoch [   38/  100] | d_loss: 1.3225 | g_loss: 0.8498\n",
      "Epoch [   38/  100] | d_loss: 1.2542 | g_loss: 0.7659\n",
      "Epoch [   38/  100] | d_loss: 1.4879 | g_loss: 1.1941\n",
      "Epoch [   39/  100] | d_loss: 1.3220 | g_loss: 1.3423\n",
      "Epoch [   39/  100] | d_loss: 1.2569 | g_loss: 0.8939\n",
      "Epoch [   39/  100] | d_loss: 1.3606 | g_loss: 0.8612\n",
      "Epoch [   40/  100] | d_loss: 1.2150 | g_loss: 1.1774\n",
      "Epoch [   40/  100] | d_loss: 1.2356 | g_loss: 1.0327\n",
      "Epoch [   40/  100] | d_loss: 1.3349 | g_loss: 1.0179\n",
      "Epoch [   41/  100] | d_loss: 1.3190 | g_loss: 1.3642\n",
      "Epoch [   41/  100] | d_loss: 1.2994 | g_loss: 0.8589\n",
      "Epoch [   41/  100] | d_loss: 1.3314 | g_loss: 0.9991\n",
      "Epoch [   42/  100] | d_loss: 1.2379 | g_loss: 1.2151\n",
      "Epoch [   42/  100] | d_loss: 1.2862 | g_loss: 1.0374\n",
      "Epoch [   42/  100] | d_loss: 1.4102 | g_loss: 1.0263\n",
      "Epoch [   43/  100] | d_loss: 1.2497 | g_loss: 1.3964\n",
      "Epoch [   43/  100] | d_loss: 1.2804 | g_loss: 1.0937\n",
      "Epoch [   43/  100] | d_loss: 1.4546 | g_loss: 0.9983\n",
      "Epoch [   44/  100] | d_loss: 1.3841 | g_loss: 1.0492\n",
      "Epoch [   44/  100] | d_loss: 1.2752 | g_loss: 0.9850\n",
      "Epoch [   44/  100] | d_loss: 1.2664 | g_loss: 1.0164\n",
      "Epoch [   45/  100] | d_loss: 1.2999 | g_loss: 1.2090\n",
      "Epoch [   45/  100] | d_loss: 1.2935 | g_loss: 1.0168\n",
      "Epoch [   45/  100] | d_loss: 1.4567 | g_loss: 0.9562\n",
      "Epoch [   46/  100] | d_loss: 1.2307 | g_loss: 1.1260\n",
      "Epoch [   46/  100] | d_loss: 1.2886 | g_loss: 1.2424\n",
      "Epoch [   46/  100] | d_loss: 1.2565 | g_loss: 0.9984\n",
      "Epoch [   47/  100] | d_loss: 1.2659 | g_loss: 1.1631\n",
      "Epoch [   47/  100] | d_loss: 1.3195 | g_loss: 0.9159\n",
      "Epoch [   47/  100] | d_loss: 1.3109 | g_loss: 1.1821\n",
      "Epoch [   48/  100] | d_loss: 1.3223 | g_loss: 1.0663\n",
      "Epoch [   48/  100] | d_loss: 1.2538 | g_loss: 1.1256\n",
      "Epoch [   48/  100] | d_loss: 1.2900 | g_loss: 1.0712\n",
      "Epoch [   49/  100] | d_loss: 1.3584 | g_loss: 0.9518\n",
      "Epoch [   49/  100] | d_loss: 1.3350 | g_loss: 1.3913\n",
      "Epoch [   49/  100] | d_loss: 1.3644 | g_loss: 0.9097\n",
      "Epoch [   50/  100] | d_loss: 1.3004 | g_loss: 1.0151\n",
      "Epoch [   50/  100] | d_loss: 1.2912 | g_loss: 1.0479\n",
      "Epoch [   50/  100] | d_loss: 1.3643 | g_loss: 0.9010\n",
      "Epoch [   51/  100] | d_loss: 1.3374 | g_loss: 0.9364\n",
      "Epoch [   51/  100] | d_loss: 1.2838 | g_loss: 1.0444\n"
     ]
    },
    {
     "name": "stdout",
     "output_type": "stream",
     "text": [
      "Epoch [   51/  100] | d_loss: 1.2447 | g_loss: 0.9966\n",
      "Epoch [   52/  100] | d_loss: 1.2025 | g_loss: 1.4198\n",
      "Epoch [   52/  100] | d_loss: 1.2695 | g_loss: 0.9828\n",
      "Epoch [   52/  100] | d_loss: 1.4192 | g_loss: 0.9533\n",
      "Epoch [   53/  100] | d_loss: 1.2589 | g_loss: 1.2652\n",
      "Epoch [   53/  100] | d_loss: 1.1550 | g_loss: 0.8404\n",
      "Epoch [   53/  100] | d_loss: 1.2895 | g_loss: 0.9523\n",
      "Epoch [   54/  100] | d_loss: 1.2971 | g_loss: 0.9954\n",
      "Epoch [   54/  100] | d_loss: 1.3272 | g_loss: 0.9616\n",
      "Epoch [   54/  100] | d_loss: 1.3054 | g_loss: 1.4337\n",
      "Epoch [   55/  100] | d_loss: 1.3300 | g_loss: 1.2370\n",
      "Epoch [   55/  100] | d_loss: 1.3458 | g_loss: 1.0967\n",
      "Epoch [   55/  100] | d_loss: 1.3381 | g_loss: 0.9784\n",
      "Epoch [   56/  100] | d_loss: 1.3716 | g_loss: 0.8610\n",
      "Epoch [   56/  100] | d_loss: 1.2501 | g_loss: 0.9535\n",
      "Epoch [   56/  100] | d_loss: 1.1558 | g_loss: 1.3754\n",
      "Epoch [   57/  100] | d_loss: 1.2940 | g_loss: 1.0412\n",
      "Epoch [   57/  100] | d_loss: 1.2372 | g_loss: 1.1236\n",
      "Epoch [   57/  100] | d_loss: 1.3167 | g_loss: 1.0531\n",
      "Epoch [   58/  100] | d_loss: 1.2699 | g_loss: 0.9648\n",
      "Epoch [   58/  100] | d_loss: 1.3031 | g_loss: 0.9827\n",
      "Epoch [   58/  100] | d_loss: 1.4376 | g_loss: 1.1713\n",
      "Epoch [   59/  100] | d_loss: 1.2679 | g_loss: 0.9773\n",
      "Epoch [   59/  100] | d_loss: 1.1398 | g_loss: 1.2143\n",
      "Epoch [   59/  100] | d_loss: 1.2814 | g_loss: 1.0682\n",
      "Epoch [   60/  100] | d_loss: 1.2669 | g_loss: 0.9425\n",
      "Epoch [   60/  100] | d_loss: 1.3151 | g_loss: 1.0804\n",
      "Epoch [   60/  100] | d_loss: 1.2784 | g_loss: 1.4587\n",
      "Epoch [   61/  100] | d_loss: 1.3058 | g_loss: 1.0214\n",
      "Epoch [   61/  100] | d_loss: 1.1919 | g_loss: 1.1398\n",
      "Epoch [   61/  100] | d_loss: 1.3248 | g_loss: 0.9206\n",
      "Epoch [   62/  100] | d_loss: 1.3570 | g_loss: 0.8869\n",
      "Epoch [   62/  100] | d_loss: 1.2985 | g_loss: 0.9200\n",
      "Epoch [   62/  100] | d_loss: 1.3756 | g_loss: 1.0787\n",
      "Epoch [   63/  100] | d_loss: 1.2305 | g_loss: 1.7100\n",
      "Epoch [   63/  100] | d_loss: 1.2822 | g_loss: 0.9024\n",
      "Epoch [   63/  100] | d_loss: 1.2823 | g_loss: 1.0021\n",
      "Epoch [   64/  100] | d_loss: 1.2180 | g_loss: 1.0048\n",
      "Epoch [   64/  100] | d_loss: 1.2082 | g_loss: 1.3349\n",
      "Epoch [   64/  100] | d_loss: 1.3302 | g_loss: 1.0547\n",
      "Epoch [   65/  100] | d_loss: 1.1911 | g_loss: 1.0776\n",
      "Epoch [   65/  100] | d_loss: 1.3724 | g_loss: 0.9554\n",
      "Epoch [   65/  100] | d_loss: 1.3793 | g_loss: 1.0599\n",
      "Epoch [   66/  100] | d_loss: 1.3805 | g_loss: 0.8109\n",
      "Epoch [   66/  100] | d_loss: 1.2990 | g_loss: 0.9726\n",
      "Epoch [   66/  100] | d_loss: 1.3418 | g_loss: 0.8660\n",
      "Epoch [   67/  100] | d_loss: 1.3170 | g_loss: 0.9446\n",
      "Epoch [   67/  100] | d_loss: 1.2643 | g_loss: 1.0385\n",
      "Epoch [   67/  100] | d_loss: 1.2527 | g_loss: 1.2321\n",
      "Epoch [   68/  100] | d_loss: 1.3286 | g_loss: 1.2067\n",
      "Epoch [   68/  100] | d_loss: 1.2931 | g_loss: 0.8735\n",
      "Epoch [   68/  100] | d_loss: 1.2913 | g_loss: 0.9767\n",
      "Epoch [   69/  100] | d_loss: 1.3512 | g_loss: 1.2701\n",
      "Epoch [   69/  100] | d_loss: 1.3705 | g_loss: 0.9471\n",
      "Epoch [   69/  100] | d_loss: 1.2983 | g_loss: 1.0467\n",
      "Epoch [   70/  100] | d_loss: 1.2890 | g_loss: 1.0280\n",
      "Epoch [   70/  100] | d_loss: 1.2324 | g_loss: 0.9053\n",
      "Epoch [   70/  100] | d_loss: 1.2233 | g_loss: 1.1907\n",
      "Epoch [   71/  100] | d_loss: 1.2831 | g_loss: 1.1031\n",
      "Epoch [   71/  100] | d_loss: 1.1708 | g_loss: 1.3873\n",
      "Epoch [   71/  100] | d_loss: 1.3760 | g_loss: 0.9077\n",
      "Epoch [   72/  100] | d_loss: 1.2399 | g_loss: 1.1844\n",
      "Epoch [   72/  100] | d_loss: 1.2767 | g_loss: 1.0537\n",
      "Epoch [   72/  100] | d_loss: 1.3463 | g_loss: 0.9258\n",
      "Epoch [   73/  100] | d_loss: 1.2512 | g_loss: 1.1277\n",
      "Epoch [   73/  100] | d_loss: 1.3111 | g_loss: 0.9908\n",
      "Epoch [   73/  100] | d_loss: 1.2982 | g_loss: 1.1585\n",
      "Epoch [   74/  100] | d_loss: 1.3167 | g_loss: 1.4443\n",
      "Epoch [   74/  100] | d_loss: 1.2932 | g_loss: 0.9413\n",
      "Epoch [   74/  100] | d_loss: 1.3233 | g_loss: 1.2890\n",
      "Epoch [   75/  100] | d_loss: 1.1999 | g_loss: 1.1046\n",
      "Epoch [   75/  100] | d_loss: 1.2666 | g_loss: 0.8505\n",
      "Epoch [   75/  100] | d_loss: 1.3260 | g_loss: 0.9756\n",
      "Epoch [   76/  100] | d_loss: 1.2109 | g_loss: 1.0850\n",
      "Epoch [   76/  100] | d_loss: 1.3433 | g_loss: 0.9371\n",
      "Epoch [   76/  100] | d_loss: 1.2436 | g_loss: 1.1281\n",
      "Epoch [   77/  100] | d_loss: 1.2369 | g_loss: 1.0273\n",
      "Epoch [   77/  100] | d_loss: 1.3193 | g_loss: 0.9646\n",
      "Epoch [   77/  100] | d_loss: 1.3909 | g_loss: 0.9835\n",
      "Epoch [   78/  100] | d_loss: 1.2807 | g_loss: 1.1847\n",
      "Epoch [   78/  100] | d_loss: 1.2899 | g_loss: 1.1544\n",
      "Epoch [   78/  100] | d_loss: 1.3531 | g_loss: 0.9459\n",
      "Epoch [   79/  100] | d_loss: 1.2622 | g_loss: 1.1479\n",
      "Epoch [   79/  100] | d_loss: 1.1884 | g_loss: 1.0864\n",
      "Epoch [   79/  100] | d_loss: 1.2875 | g_loss: 1.1358\n",
      "Epoch [   80/  100] | d_loss: 1.2427 | g_loss: 1.0816\n",
      "Epoch [   80/  100] | d_loss: 1.3429 | g_loss: 1.1044\n",
      "Epoch [   80/  100] | d_loss: 1.3430 | g_loss: 1.0223\n",
      "Epoch [   81/  100] | d_loss: 1.2679 | g_loss: 1.4119\n",
      "Epoch [   81/  100] | d_loss: 1.4017 | g_loss: 1.1100\n",
      "Epoch [   81/  100] | d_loss: 1.3180 | g_loss: 1.0559\n",
      "Epoch [   82/  100] | d_loss: 1.3390 | g_loss: 1.0832\n",
      "Epoch [   82/  100] | d_loss: 1.2993 | g_loss: 1.0871\n",
      "Epoch [   82/  100] | d_loss: 1.3272 | g_loss: 0.9091\n",
      "Epoch [   83/  100] | d_loss: 1.2695 | g_loss: 0.9032\n",
      "Epoch [   83/  100] | d_loss: 1.2326 | g_loss: 0.8792\n",
      "Epoch [   83/  100] | d_loss: 1.3087 | g_loss: 1.0985\n",
      "Epoch [   84/  100] | d_loss: 1.2855 | g_loss: 1.1619\n",
      "Epoch [   84/  100] | d_loss: 1.1435 | g_loss: 0.9472\n",
      "Epoch [   84/  100] | d_loss: 1.4272 | g_loss: 1.0840\n",
      "Epoch [   85/  100] | d_loss: 1.3030 | g_loss: 1.5320\n",
      "Epoch [   85/  100] | d_loss: 1.2042 | g_loss: 0.9208\n",
      "Epoch [   85/  100] | d_loss: 1.3685 | g_loss: 1.1672\n",
      "Epoch [   86/  100] | d_loss: 1.3804 | g_loss: 1.1171\n",
      "Epoch [   86/  100] | d_loss: 1.2519 | g_loss: 0.9014\n",
      "Epoch [   86/  100] | d_loss: 1.3467 | g_loss: 1.2189\n",
      "Epoch [   87/  100] | d_loss: 1.2687 | g_loss: 1.1006\n",
      "Epoch [   87/  100] | d_loss: 1.2369 | g_loss: 1.2782\n",
      "Epoch [   87/  100] | d_loss: 1.4164 | g_loss: 1.4401\n",
      "Epoch [   88/  100] | d_loss: 1.2719 | g_loss: 1.2068\n",
      "Epoch [   88/  100] | d_loss: 1.3671 | g_loss: 0.8765\n",
      "Epoch [   88/  100] | d_loss: 1.1943 | g_loss: 1.1882\n",
      "Epoch [   89/  100] | d_loss: 1.3138 | g_loss: 1.0167\n",
      "Epoch [   89/  100] | d_loss: 1.2659 | g_loss: 1.1565\n",
      "Epoch [   89/  100] | d_loss: 1.3225 | g_loss: 1.0218\n",
      "Epoch [   90/  100] | d_loss: 1.2122 | g_loss: 1.0567\n",
      "Epoch [   90/  100] | d_loss: 1.1968 | g_loss: 1.1283\n",
      "Epoch [   90/  100] | d_loss: 1.2964 | g_loss: 0.9737\n",
      "Epoch [   91/  100] | d_loss: 1.3337 | g_loss: 1.4277\n",
      "Epoch [   91/  100] | d_loss: 1.2737 | g_loss: 1.0256\n",
      "Epoch [   91/  100] | d_loss: 1.3428 | g_loss: 1.2652\n",
      "Epoch [   92/  100] | d_loss: 1.2965 | g_loss: 1.0202\n",
      "Epoch [   92/  100] | d_loss: 1.2295 | g_loss: 0.9295\n",
      "Epoch [   92/  100] | d_loss: 1.2882 | g_loss: 0.9892\n",
      "Epoch [   93/  100] | d_loss: 1.2319 | g_loss: 1.4151\n",
      "Epoch [   93/  100] | d_loss: 1.2240 | g_loss: 1.0024\n",
      "Epoch [   93/  100] | d_loss: 1.5043 | g_loss: 1.1075\n",
      "Epoch [   94/  100] | d_loss: 1.3277 | g_loss: 1.1476\n",
      "Epoch [   94/  100] | d_loss: 1.2796 | g_loss: 1.0008\n",
      "Epoch [   94/  100] | d_loss: 1.3829 | g_loss: 0.9340\n",
      "Epoch [   95/  100] | d_loss: 1.2639 | g_loss: 1.0135\n",
      "Epoch [   95/  100] | d_loss: 1.2339 | g_loss: 1.3327\n",
      "Epoch [   95/  100] | d_loss: 1.2932 | g_loss: 1.0599\n",
      "Epoch [   96/  100] | d_loss: 1.3078 | g_loss: 1.0492\n",
      "Epoch [   96/  100] | d_loss: 1.2139 | g_loss: 1.0903\n",
      "Epoch [   96/  100] | d_loss: 1.3023 | g_loss: 1.0817\n",
      "Epoch [   97/  100] | d_loss: 1.3156 | g_loss: 1.0883\n",
      "Epoch [   97/  100] | d_loss: 1.2468 | g_loss: 1.0375\n",
      "Epoch [   97/  100] | d_loss: 1.3280 | g_loss: 0.9557\n",
      "Epoch [   98/  100] | d_loss: 1.2649 | g_loss: 1.0708\n",
      "Epoch [   98/  100] | d_loss: 1.2378 | g_loss: 1.0082\n",
      "Epoch [   98/  100] | d_loss: 1.3205 | g_loss: 1.0246\n",
      "Epoch [   99/  100] | d_loss: 1.1859 | g_loss: 1.0829\n",
      "Epoch [   99/  100] | d_loss: 1.2995 | g_loss: 0.9761\n",
      "Epoch [   99/  100] | d_loss: 1.2629 | g_loss: 0.9898\n",
      "Epoch [  100/  100] | d_loss: 1.3701 | g_loss: 1.1591\n",
      "Epoch [  100/  100] | d_loss: 1.2255 | g_loss: 0.8745\n",
      "Epoch [  100/  100] | d_loss: 1.3209 | g_loss: 1.4906\n"
     ]
    }
   ],
   "source": [
    "import pickle as pkl\n",
    "\n",
    "# training hyperparams\n",
    "num_epochs = 100\n",
    "\n",
    "# keep track of loss and generated, \"fake\" samples\n",
    "samples = []\n",
    "losses = []\n",
    "\n",
    "print_every = 400\n",
    "\n",
    "# Get some fixed data for sampling. These are images that are held\n",
    "# constant throughout training, and allow us to inspect the model's performance\n",
    "sample_size=16\n",
    "fixed_z = np.random.uniform(-1, 1, size=(sample_size, z_size))\n",
    "fixed_z = torch.from_numpy(fixed_z).float()\n",
    "\n",
    "# train the network\n",
    "D.train()\n",
    "G.train()\n",
    "for epoch in range(num_epochs):\n",
    "    \n",
    "    for batch_i, (real_images, _) in enumerate(train_loader):\n",
    "                \n",
    "        batch_size = real_images.size(0)\n",
    "        \n",
    "        ## Important rescaling step ## \n",
    "        real_images = real_images*2 - 1  # rescale input images from [0,1) to [-1, 1)\n",
    "        \n",
    "        # ============================================\n",
    "        #            TRAIN THE DISCRIMINATOR\n",
    "        # ============================================\n",
    "        \n",
    "        d_optimizer.zero_grad()\n",
    "                \n",
    "        # 1. Train with real images\n",
    "\n",
    "        # Compute the discriminator losses on real images\n",
    "        # use smoothed labels\n",
    "        Dout = D(real_images)\n",
    "        rloss = real_loss(Dout, smooth=True)\n",
    "        \n",
    "        # 2. Train with fake images\n",
    "        \n",
    "        # Generate fake images\n",
    "        z = np.random.uniform(-1, 1, size=(batch_size, z_size))\n",
    "        z = torch.from_numpy(z).float()\n",
    "        fake_images = G(z)\n",
    "        \n",
    "        # Compute the discriminator losses on fake images\n",
    "        floss = fake_loss(D(fake_images))\n",
    "        \n",
    "        # add up real and fake losses and perform backprop\n",
    "        d_loss = rloss + floss\n",
    "        d_loss.backward()\n",
    "        d_optimizer.step()\n",
    "        \n",
    "        \n",
    "        # =========================================\n",
    "        #            TRAIN THE GENERATOR\n",
    "        # =========================================\n",
    "        \n",
    "        g_optimizer.zero_grad()\n",
    "        \n",
    "        # 1. Train with fake images and flipped labels\n",
    "        \n",
    "        # Generate fake images\n",
    "        z = np.random.uniform(-1, 1, size=(batch_size, z_size))\n",
    "        z = torch.from_numpy(z).float()\n",
    "        fake_images = G(z)\n",
    "        \n",
    "        # Compute the discriminator losses on fake images \n",
    "        # using flipped labels!\n",
    "        Dout = D(fake_images)\n",
    "        g_loss = real_loss(Dout)\n",
    "        \n",
    "        # perform backprop\n",
    "        g_loss.backward()\n",
    "        g_optimizer.step()\n",
    "        \n",
    "\n",
    "        # Print some loss stats\n",
    "        if batch_i % print_every == 0:\n",
    "            # print discriminator and generator loss\n",
    "            print('Epoch [{:5d}/{:5d}] | d_loss: {:6.4f} | g_loss: {:6.4f}'.format(\n",
    "                    epoch+1, num_epochs, d_loss.item(), g_loss.item()))\n",
    "\n",
    "    \n",
    "    ## AFTER EACH EPOCH##\n",
    "    # append discriminator loss and generator loss\n",
    "    losses.append((d_loss.item(), g_loss.item()))\n",
    "    \n",
    "    # generate and save sample, fake images\n",
    "    G.eval() # eval mode for generating samples\n",
    "    samples_z = G(fixed_z)\n",
    "    samples.append(samples_z)\n",
    "    G.train() # back to train mode\n",
    "\n",
    "\n",
    "# Save training generator samples\n",
    "with open('train_samples.pkl', 'wb') as f:\n",
    "    pkl.dump(samples, f)"
   ]
  },
  {
   "cell_type": "markdown",
   "metadata": {},
   "source": [
    "## Training loss\n",
    "\n",
    "Here we'll plot the training losses for the generator and discriminator, recorded after each epoch."
   ]
  },
  {
   "cell_type": "code",
   "execution_count": 14,
   "metadata": {
    "ExecuteTime": {
     "end_time": "2019-04-27T23:49:41.561271Z",
     "start_time": "2019-04-27T23:49:41.430130Z"
    }
   },
   "outputs": [
    {
     "data": {
      "text/plain": [
       "<matplotlib.legend.Legend at 0x7fcbe6367470>"
      ]
     },
     "execution_count": 14,
     "metadata": {},
     "output_type": "execute_result"
    },
    {
     "data": {
      "image/png": "[encoded data removed]",
      "text/plain": [
       "<Figure size 432x288 with 1 Axes>"
      ]
     },
     "metadata": {
      "needs_background": "light"
     },
     "output_type": "display_data"
    }
   ],
   "source": [
    "fig, ax = plt.subplots()\n",
    "losses = np.array(losses)\n",
    "plt.plot(losses.T[0], label='Discriminator')\n",
    "plt.plot(losses.T[1], label='Generator')\n",
    "plt.title(\"Training Losses\")\n",
    "plt.legend()"
   ]
  },
  {
   "cell_type": "markdown",
   "metadata": {},
   "source": [
    "## Generator samples from training\n",
    "\n",
    "Here we can view samples of images from the generator. First we'll look at the images we saved during training."
   ]
  },
  {
   "cell_type": "code",
   "execution_count": 15,
   "metadata": {
    "ExecuteTime": {
     "end_time": "2019-04-27T23:49:46.357688Z",
     "start_time": "2019-04-27T23:49:46.342718Z"
    }
   },
   "outputs": [],
   "source": [
    "# helper function for viewing a list of passed in sample images\n",
    "def view_samples(epoch, samples):\n",
    "    fig, axes = plt.subplots(figsize=(7,7), nrows=4, ncols=4, sharey=True, sharex=True)\n",
    "    for ax, img in zip(axes.flatten(), samples[epoch]):\n",
    "        img = img.detach()\n",
    "        ax.xaxis.set_visible(False)\n",
    "        ax.yaxis.set_visible(False)\n",
    "        im = ax.imshow(img.reshape((28,28)), cmap='Greys_r')"
   ]
  },
  {
   "cell_type": "code",
   "execution_count": 16,
   "metadata": {
    "ExecuteTime": {
     "end_time": "2019-04-27T23:49:48.228672Z",
     "start_time": "2019-04-27T23:49:48.192378Z"
    }
   },
   "outputs": [],
   "source": [
    "# Load samples from generator, taken while training\n",
    "with open('train_samples.pkl', 'rb') as f:\n",
    "    samples = pkl.load(f)"
   ]
  },
  {
   "cell_type": "markdown",
   "metadata": {},
   "source": [
    "These are samples from the final training epoch. You can see the generator is able to reproduce numbers like 1, 7, 3, 2. Since this is just a sample, it isn't representative of the full range of images this generator can make."
   ]
  },
  {
   "cell_type": "code",
   "execution_count": 17,
   "metadata": {
    "ExecuteTime": {
     "end_time": "2019-04-27T23:49:51.216138Z",
     "start_time": "2019-04-27T23:49:50.887492Z"
    }
   },
   "outputs": [
    {
     "data": {
      "image/png": "[encoded data removed]",
      "text/plain": [
       "<Figure size 504x504 with 16 Axes>"
      ]
     },
     "metadata": {
      "needs_background": "light"
     },
     "output_type": "display_data"
    }
   ],
   "source": [
    "# -1 indicates final epoch's samples (the last in the list)\n",
    "view_samples(-1, samples)"
   ]
  },
  {
   "cell_type": "markdown",
   "metadata": {},
   "source": [
    "Below I'm showing the generated images as the network was training, every 10 epochs."
   ]
  },
  {
   "cell_type": "code",
   "execution_count": 18,
   "metadata": {
    "ExecuteTime": {
     "end_time": "2019-04-27T23:50:01.033476Z",
     "start_time": "2019-04-27T23:49:59.762224Z"
    }
   },
   "outputs": [
    {
     "data": {
      "image/png": "[encoded data removed]",
      "text/plain": [
       "<Figure size 504x864 with 60 Axes>"
      ]
     },
     "metadata": {
      "needs_background": "light"
     },
     "output_type": "display_data"
    }
   ],
   "source": [
    "rows = 10 # split epochs into 10, so 100/10 = every 10 epochs\n",
    "cols = 6\n",
    "fig, axes = plt.subplots(figsize=(7,12), nrows=rows, ncols=cols, sharex=True, sharey=True)\n",
    "\n",
    "for sample, ax_row in zip(samples[::int(len(samples)/rows)], axes):\n",
    "    for img, ax in zip(sample[::int(len(sample)/cols)], ax_row):\n",
    "        img = img.detach()\n",
    "        ax.imshow(img.reshape((28,28)), cmap='Greys_r')\n",
    "        ax.xaxis.set_visible(False)\n",
    "        ax.yaxis.set_visible(False)"
   ]
  },
  {
   "cell_type": "markdown",
   "metadata": {},
   "source": [
    "It starts out as all noise. Then it learns to make only the center white and the rest black. You can start to see some number like structures appear out of the noise like 1s and 9s."
   ]
  },
  {
   "cell_type": "markdown",
   "metadata": {},
   "source": [
    "## Sampling from the generator\n",
    "\n",
    "We can also get completely new images from the generator by using the checkpoint we saved after training. **We just need to pass in a new latent vector $z$ and we'll get new samples**!"
   ]
  },
  {
   "cell_type": "code",
   "execution_count": 19,
   "metadata": {
    "ExecuteTime": {
     "end_time": "2019-04-27T23:50:45.326134Z",
     "start_time": "2019-04-27T23:50:44.947279Z"
    }
   },
   "outputs": [
    {
     "data": {
      "image/png": "[encoded data removed]",
      "text/plain": [
       "<Figure size 504x504 with 16 Axes>"
      ]
     },
     "metadata": {
      "needs_background": "light"
     },
     "output_type": "display_data"
    }
   ],
   "source": [
    "# randomly generated, new latent vectors\n",
    "sample_size=16\n",
    "rand_z = np.random.uniform(-1, 1, size=(sample_size, z_size))\n",
    "rand_z = torch.from_numpy(rand_z).float()\n",
    "\n",
    "G.eval() # eval mode\n",
    "# generated samples\n",
    "rand_images = G(rand_z)\n",
    "\n",
    "# 0 indicates the first set of samples in the passed in list\n",
    "# and we only have one batch of samples, here\n",
    "view_samples(0, [rand_images])"
   ]
  },
  {
   "cell_type": "code",
   "execution_count": null,
   "metadata": {},
   "outputs": [],
   "source": []
  }
 ],
 "metadata": {
  "kernelspec": {
   "display_name": "Python 3",
   "language": "python",
   "name": "python3"
  },
  "language_info": {
   "codemirror_mode": {
    "name": "ipython",
    "version": 3
   },
   "file_extension": ".py",
   "mimetype": "text/x-python",
   "name": "python",
   "nbconvert_exporter": "python",
   "pygments_lexer": "ipython3",
   "version": "3.6.8"
  },
  "varInspector": {
   "cols": {
    "lenName": 16,
    "lenType": 16,
    "lenVar": 40
   },
   "kernels_config": {
    "python": {
     "delete_cmd_postfix": "",
     "delete_cmd_prefix": "del ",
     "library": "var_list.py",
     "varRefreshCmd": "print(var_dic_list())"
    },
    "r": {
     "delete_cmd_postfix": ") ",
     "delete_cmd_prefix": "rm(",
     "library": "var_list.r",
     "varRefreshCmd": "cat(var_dic_list()) "
    }
   },
   "types_to_exclude": [
    "module",
    "function",
    "builtin_function_or_method",
    "instance",
    "_Feature"
   ],
   "window_display": false
  }
 },
 "nbformat": 4,
 "nbformat_minor": 2
}
