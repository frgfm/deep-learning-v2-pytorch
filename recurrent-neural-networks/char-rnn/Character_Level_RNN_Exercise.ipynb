{
 "cells": [
  {
   "cell_type": "markdown",
   "metadata": {},
   "source": [
    "# Character-Level LSTM in PyTorch\n",
    "\n",
    "In this notebook, I'll construct a character-level LSTM with PyTorch. The network will train character by character on some text, then generate new text character by character. As an example, I will train on Anna Karenina. **This model will be able to generate new text based on the text from the book!**\n",
    "\n",
    "This network is based off of Andrej Karpathy's [post on RNNs](http://karpathy.github.io/2015/05/21/rnn-effectiveness/) and [implementation in Torch](https://github.com/karpathy/char-rnn). Below is the general architecture of the character-wise RNN.\n",
    "\n",
    "<img src=\"assets/charseq.jpeg\" width=\"500\">"
   ]
  },
  {
   "cell_type": "markdown",
   "metadata": {},
   "source": [
    "First let's load in our required resources for data loading and model creation."
   ]
  },
  {
   "cell_type": "code",
   "execution_count": 1,
   "metadata": {
    "ExecuteTime": {
     "end_time": "2018-11-24T22:50:23.082937Z",
     "start_time": "2018-11-24T22:50:22.868899Z"
    }
   },
   "outputs": [],
   "source": [
    "import numpy as np\n",
    "import torch\n",
    "from torch import nn\n",
    "import torch.nn.functional as F"
   ]
  },
  {
   "cell_type": "markdown",
   "metadata": {},
   "source": [
    "## Load in Data\n",
    "\n",
    "Then, we'll load the Anna Karenina text file and convert it into integers for our network to use. "
   ]
  },
  {
   "cell_type": "code",
   "execution_count": 2,
   "metadata": {
    "ExecuteTime": {
     "end_time": "2018-11-24T22:50:23.091611Z",
     "start_time": "2018-11-24T22:50:23.084547Z"
    }
   },
   "outputs": [],
   "source": [
    "# open text file and read in data as `text`\n",
    "with open('data/anna.txt', 'r') as f:\n",
    "    text = f.read()"
   ]
  },
  {
   "cell_type": "markdown",
   "metadata": {},
   "source": [
    "Let's check out the first 100 characters, make sure everything is peachy. According to the [American Book Review](http://americanbookreview.org/100bestlines.asp), this is the 6th best first line of a book ever."
   ]
  },
  {
   "cell_type": "code",
   "execution_count": 3,
   "metadata": {
    "ExecuteTime": {
     "end_time": "2018-11-24T22:50:23.101252Z",
     "start_time": "2018-11-24T22:50:23.093526Z"
    }
   },
   "outputs": [
    {
     "data": {
      "text/plain": [
       "'Chapter 1\\n\\n\\nHappy families are all alike; every unhappy family is unhappy in its own\\nway.\\n\\nEverythin'"
      ]
     },
     "execution_count": 3,
     "metadata": {},
     "output_type": "execute_result"
    }
   ],
   "source": [
    "text[:100]"
   ]
  },
  {
   "cell_type": "markdown",
   "metadata": {},
   "source": [
    "### Tokenization\n",
    "\n",
    "In the cells, below, I'm creating a couple **dictionaries** to convert the characters to and from integers. Encoding the characters as integers makes it easier to use as input in the network."
   ]
  },
  {
   "cell_type": "code",
   "execution_count": 4,
   "metadata": {
    "ExecuteTime": {
     "end_time": "2018-11-24T22:50:23.293638Z",
     "start_time": "2018-11-24T22:50:23.102841Z"
    }
   },
   "outputs": [],
   "source": [
    "# encode the text and map each character to an integer and vice versa\n",
    "\n",
    "# we create two dictionaries:\n",
    "# 1. int2char, which maps integers to characters\n",
    "# 2. char2int, which maps characters to unique integers\n",
    "chars = tuple(set(text))\n",
    "int2char = dict(enumerate(chars))\n",
    "char2int = {ch: ii for ii, ch in int2char.items()}\n",
    "\n",
    "# encode the text\n",
    "encoded = np.array([char2int[ch] for ch in text])"
   ]
  },
  {
   "cell_type": "markdown",
   "metadata": {},
   "source": [
    "And we can see those same characters from above, encoded as integers."
   ]
  },
  {
   "cell_type": "code",
   "execution_count": 5,
   "metadata": {
    "ExecuteTime": {
     "end_time": "2018-11-24T22:50:23.299672Z",
     "start_time": "2018-11-24T22:50:23.295179Z"
    }
   },
   "outputs": [
    {
     "data": {
      "text/plain": [
       "array([17, 55, 39, 56,  0, 77, 48, 32, 43, 24, 24, 24, 75, 39, 56, 56, 57,\n",
       "       32, 37, 39, 74, 78, 51, 78, 77, 40, 32, 39, 48, 77, 32, 39, 51, 51,\n",
       "       32, 39, 51, 78, 21, 77,  1, 32, 77, 69, 77, 48, 57, 32,  4, 12, 55,\n",
       "       39, 56, 56, 57, 32, 37, 39, 74, 78, 51, 57, 32, 78, 40, 32,  4, 12,\n",
       "       55, 39, 56, 56, 57, 32, 78, 12, 32, 78,  0, 40, 32,  5, 53, 12, 24,\n",
       "       53, 39, 57,  2, 24, 24,  7, 69, 77, 48, 57,  0, 55, 78, 12])"
      ]
     },
     "execution_count": 5,
     "metadata": {},
     "output_type": "execute_result"
    }
   ],
   "source": [
    "encoded[:100]"
   ]
  },
  {
   "cell_type": "markdown",
   "metadata": {},
   "source": [
    "## Pre-processing the data\n",
    "\n",
    "As you can see in our char-RNN image above, our LSTM expects an input that is **one-hot encoded** meaning that each character is converted into an integer (via our created dictionary) and *then* converted into a column vector where only it's corresponding integer index will have the value of 1 and the rest of the vector will be filled with 0's. Since we're one-hot encoding the data, let's make a function to do that!\n"
   ]
  },
  {
   "cell_type": "code",
   "execution_count": 6,
   "metadata": {
    "ExecuteTime": {
     "end_time": "2018-11-24T22:50:23.304887Z",
     "start_time": "2018-11-24T22:50:23.301609Z"
    }
   },
   "outputs": [],
   "source": [
    "def one_hot_encode(arr, n_labels):\n",
    "    \n",
    "    # Initialize the the encoded array\n",
    "    one_hot = np.zeros((np.multiply(*arr.shape), n_labels), dtype=np.float32)\n",
    "    \n",
    "    # Fill the appropriate elements with ones\n",
    "    one_hot[np.arange(one_hot.shape[0]), arr.flatten()] = 1.\n",
    "    \n",
    "    # Finally reshape it to get back to the original array\n",
    "    one_hot = one_hot.reshape((*arr.shape, n_labels))\n",
    "    \n",
    "    return one_hot"
   ]
  },
  {
   "cell_type": "code",
   "execution_count": 7,
   "metadata": {
    "ExecuteTime": {
     "end_time": "2018-11-24T22:50:23.311452Z",
     "start_time": "2018-11-24T22:50:23.307537Z"
    }
   },
   "outputs": [
    {
     "name": "stdout",
     "output_type": "stream",
     "text": [
      "[[[0. 0. 0. 1. 0. 0. 0. 0.]\n",
      "  [0. 0. 0. 0. 0. 1. 0. 0.]\n",
      "  [0. 1. 0. 0. 0. 0. 0. 0.]]]\n"
     ]
    }
   ],
   "source": [
    "# check that the function works as expected\n",
    "test_seq = np.array([[3, 5, 1]])\n",
    "one_hot = one_hot_encode(test_seq, 8)\n",
    "\n",
    "print(one_hot)"
   ]
  },
  {
   "cell_type": "markdown",
   "metadata": {},
   "source": [
    "## Making training mini-batches\n",
    "\n",
    "\n",
    "To train on this data, we also want to create mini-batches for training. Remember that we want our batches to be multiple sequences of some desired number of sequence steps. Considering a simple example, our batches would look like this:\n",
    "\n",
    "<img src=\"assets/sequence_batching@1x.png\" width=500px>\n",
    "\n",
    "\n",
    "<br>\n",
    "\n",
    "In this example, we'll take the encoded characters (passed in as the `arr` parameter) and split them into multiple sequences, given by `batch_size`. Each of our sequences will be `seq_length` long.\n",
    "\n",
    "### Creating Batches\n",
    "\n",
    "**1. The first thing we need to do is discard some of the text so we only have completely full mini-batches. **\n",
    "\n",
    "Each batch contains $N \\times M$ characters, where $N$ is the batch size (the number of sequences in a batch) and $M$ is the seq_length or number of time steps in a sequence. Then, to get the total number of batches, $K$, that we can make from the array `arr`, you divide the length of `arr` by the number of characters per batch. Once you know the number of batches, you can get the total number of characters to keep from `arr`, $N * M * K$.\n",
    "\n",
    "**2. After that, we need to split `arr` into $N$ batches. ** \n",
    "\n",
    "You can do this using `arr.reshape(size)` where `size` is a tuple containing the dimensions sizes of the reshaped array. We know we want $N$ sequences in a batch, so let's make that the size of the first dimension. For the second dimension, you can use `-1` as a placeholder in the size, it'll fill up the array with the appropriate data for you. After this, you should have an array that is $N \\times (M * K)$.\n",
    "\n",
    "**3. Now that we have this array, we can iterate through it to get our mini-batches. **\n",
    "\n",
    "The idea is each batch is a $N \\times M$ window on the $N \\times (M * K)$ array. For each subsequent batch, the window moves over by `seq_length`. We also want to create both the input and target arrays. Remember that the targets are just the inputs shifted over by one character. The way I like to do this window is use `range` to take steps of size `n_steps` from $0$ to `arr.shape[1]`, the total number of tokens in each sequence. That way, the integers you get from `range` always point to the start of a batch, and each window is `seq_length` wide.\n",
    "\n",
    "> **TODO:** Write the code for creating batches in the function below. The exercises in this notebook _will not be easy_. I've provided a notebook with solutions alongside this notebook. If you get stuck, checkout the solutions. The most important thing is that you don't copy and paste the code into here, **type out the solution code yourself.**"
   ]
  },
  {
   "cell_type": "code",
   "execution_count": 8,
   "metadata": {
    "ExecuteTime": {
     "end_time": "2018-11-24T22:50:23.317285Z",
     "start_time": "2018-11-24T22:50:23.313411Z"
    }
   },
   "outputs": [],
   "source": [
    "def get_batches(arr, batch_size, seq_length):\n",
    "    '''Create a generator that returns batches of size\n",
    "       batch_size x seq_length from arr.\n",
    "       \n",
    "       Arguments\n",
    "       ---------\n",
    "       arr: Array you want to make batches from\n",
    "       batch_size: Batch size, the number of sequences per batch\n",
    "       seq_length: Number of encoded chars in a sequence\n",
    "    '''\n",
    "    \n",
    "    ## TODO: Get the number of batches we can make\n",
    "    n_batches = len(arr) // (batch_size * seq_length)\n",
    "    \n",
    "    ## TODO: Keep only enough characters to make full batches\n",
    "    arr = arr[:n_batches * batch_size * seq_length]\n",
    "    \n",
    "    ## TODO: Reshape into batch_size rows\n",
    "    arr = arr.reshape((batch_size, -1))\n",
    "    \n",
    "    ## TODO: Iterate over the batches using a window of size seq_length\n",
    "    for n in range(0, arr.shape[1], seq_length):\n",
    "        # The features\n",
    "        x = arr[:, n:n+seq_length]\n",
    "        # The targets, shifted by one\n",
    "        y = np.zeros_like(x)\n",
    "        try:\n",
    "            y[:, :-1], y[:, -1] = x[:, 1:], arr[:, n+seq_length]\n",
    "        except IndexError:\n",
    "            y[:, :-1], y[:, -1] = x[:, 1:], arr[:, 0]\n",
    "        yield x, y"
   ]
  },
  {
   "cell_type": "markdown",
   "metadata": {},
   "source": [
    "### Test Your Implementation\n",
    "\n",
    "Now I'll make some data sets and we can check out what's going on as we batch data. Here, as an example, I'm going to use a batch size of 8 and 50 sequence steps."
   ]
  },
  {
   "cell_type": "code",
   "execution_count": 9,
   "metadata": {
    "ExecuteTime": {
     "end_time": "2018-11-24T22:50:23.325708Z",
     "start_time": "2018-11-24T22:50:23.318868Z"
    }
   },
   "outputs": [],
   "source": [
    "batches = get_batches(encoded, 8, 50)\n",
    "x, y = next(batches)"
   ]
  },
  {
   "cell_type": "code",
   "execution_count": 10,
   "metadata": {
    "ExecuteTime": {
     "end_time": "2018-11-24T22:50:23.330217Z",
     "start_time": "2018-11-24T22:50:23.327095Z"
    }
   },
   "outputs": [
    {
     "name": "stdout",
     "output_type": "stream",
     "text": [
      "x\n",
      " [[17 55 39 56  0 77 48 32 43 24]\n",
      " [40  5 12 32  0 55 39  0 32 39]\n",
      " [77 12 70 32  5 48 32 39 32 37]\n",
      " [40 32  0 55 77 32 49 55 78 77]\n",
      " [32 40 39 53 32 55 77 48 32  0]\n",
      " [49  4 40 40 78  5 12 32 39 12]\n",
      " [32 15 12 12 39 32 55 39 70 32]\n",
      " [44 28 51  5 12 40 21 57  2 32]]\n",
      "\n",
      "y\n",
      " [[55 39 56  0 77 48 32 43 24 24]\n",
      " [ 5 12 32  0 55 39  0 32 39  0]\n",
      " [12 70 32  5 48 32 39 32 37  5]\n",
      " [32  0 55 77 32 49 55 78 77 37]\n",
      " [40 39 53 32 55 77 48 32  0 77]\n",
      " [ 4 40 40 78  5 12 32 39 12 70]\n",
      " [15 12 12 39 32 55 39 70 32 40]\n",
      " [28 51  5 12 40 21 57  2 32 45]]\n"
     ]
    }
   ],
   "source": [
    "# printing out the first 10 items in a sequence\n",
    "print('x\\n', x[:10, :10])\n",
    "print('\\ny\\n', y[:10, :10])"
   ]
  },
  {
   "cell_type": "markdown",
   "metadata": {},
   "source": [
    "If you implemented `get_batches` correctly, the above output should look something like \n",
    "```\n",
    "x\n",
    " [[25  8 60 11 45 27 28 73  1  2]\n",
    " [17  7 20 73 45  8 60 45 73 60]\n",
    " [27 20 80 73  7 28 73 60 73 65]\n",
    " [17 73 45  8 27 73 66  8 46 27]\n",
    " [73 17 60 12 73  8 27 28 73 45]\n",
    " [66 64 17 17 46  7 20 73 60 20]\n",
    " [73 76 20 20 60 73  8 60 80 73]\n",
    " [47 35 43  7 20 17 24 50 37 73]]\n",
    "\n",
    "y\n",
    " [[ 8 60 11 45 27 28 73  1  2  2]\n",
    " [ 7 20 73 45  8 60 45 73 60 45]\n",
    " [20 80 73  7 28 73 60 73 65  7]\n",
    " [73 45  8 27 73 66  8 46 27 65]\n",
    " [17 60 12 73  8 27 28 73 45 27]\n",
    " [64 17 17 46  7 20 73 60 20 80]\n",
    " [76 20 20 60 73  8 60 80 73 17]\n",
    " [35 43  7 20 17 24 50 37 73 36]]\n",
    " ```\n",
    " although the exact numbers may be different. Check to make sure the data is shifted over one step for `y`."
   ]
  },
  {
   "cell_type": "markdown",
   "metadata": {},
   "source": [
    "---\n",
    "## Defining the network with PyTorch\n",
    "\n",
    "Below is where you'll define the network.\n",
    "\n",
    "<img src=\"assets/charRNN.png\" width=500px>\n",
    "\n",
    "Next, you'll use PyTorch to define the architecture of the network. We start by defining the layers and operations we want. Then, define a method for the forward pass. You've also been given a method for predicting characters."
   ]
  },
  {
   "cell_type": "markdown",
   "metadata": {},
   "source": [
    "### Model Structure\n",
    "\n",
    "In `__init__` the suggested structure is as follows:\n",
    "* Create and store the necessary dictionaries (this has been done for you)\n",
    "* Define an LSTM layer that takes as params: an input size (the number of characters), a hidden layer size `n_hidden`, a number of layers `n_layers`, a dropout probability `drop_prob`, and a batch_first boolean (True, since we are batching)\n",
    "* Define a dropout layer with `dropout_prob`\n",
    "* Define a fully-connected layer with params: input size `n_hidden` and output size (the number of characters)\n",
    "* Finally, initialize the weights (again, this has been given)\n",
    "\n",
    "Note that some parameters have been named and given in the `__init__` function, and we use them and store them by doing something like `self.drop_prob = drop_prob`."
   ]
  },
  {
   "cell_type": "markdown",
   "metadata": {},
   "source": [
    "---\n",
    "### LSTM Inputs/Outputs\n",
    "\n",
    "You can create a basic [LSTM layer](https://pytorch.org/docs/stable/nn.html#lstm) as follows\n",
    "\n",
    "```python\n",
    "self.lstm = nn.LSTM(input_size, n_hidden, n_layers, \n",
    "                            dropout=drop_prob, batch_first=True)\n",
    "```\n",
    "\n",
    "where `input_size` is the number of characters this cell expects to see as sequential input, and `n_hidden` is the number of units in the hidden layers in the cell. And we can add dropout by adding a dropout parameter with a specified probability; this will automatically add dropout to the inputs or outputs. Finally, in the `forward` function, we can stack up the LSTM cells into layers using `.view`. With this, you pass in a list of cells and it will send the output of one cell into the next cell.\n",
    "\n",
    "We also need to create an initial hidden state of all zeros. This is done like so\n",
    "\n",
    "```python\n",
    "self.init_hidden()\n",
    "```"
   ]
  },
  {
   "cell_type": "code",
   "execution_count": 11,
   "metadata": {
    "ExecuteTime": {
     "end_time": "2018-11-24T22:50:23.354284Z",
     "start_time": "2018-11-24T22:50:23.332662Z"
    }
   },
   "outputs": [
    {
     "name": "stdout",
     "output_type": "stream",
     "text": [
      "Training on GPU!\n"
     ]
    }
   ],
   "source": [
    "# check if GPU is available\n",
    "train_on_gpu = torch.cuda.is_available()\n",
    "if(train_on_gpu):\n",
    "    print('Training on GPU!')\n",
    "else: \n",
    "    print('No GPU available, training on CPU; consider making n_epochs very small.')"
   ]
  },
  {
   "cell_type": "code",
   "execution_count": 12,
   "metadata": {
    "ExecuteTime": {
     "end_time": "2018-11-24T22:50:23.367520Z",
     "start_time": "2018-11-24T22:50:23.357936Z"
    }
   },
   "outputs": [],
   "source": [
    "class CharRNN(nn.Module):\n",
    "    \n",
    "    def __init__(self, tokens, n_hidden=256, n_layers=2,\n",
    "                               drop_prob=0.5, lr=0.001):\n",
    "        super().__init__()\n",
    "        self.drop_prob = drop_prob\n",
    "        self.n_layers = n_layers\n",
    "        self.n_hidden = n_hidden\n",
    "        self.lr = lr\n",
    "        \n",
    "        # creating character dictionaries\n",
    "        self.chars = tokens\n",
    "        self.int2char = dict(enumerate(self.chars))\n",
    "        self.char2int = {ch: ii for ii, ch in self.int2char.items()}\n",
    "        \n",
    "        ## TODO: define the layers of the model\n",
    "        self.lstm = nn.LSTM(len(self.chars), n_hidden, n_layers, dropout=drop_prob, batch_first=True)\n",
    "        self.dropout = nn.Dropout(p=drop_prob)\n",
    "        self.fc = nn.Linear(n_hidden, len(self.chars))\n",
    "        \n",
    "      \n",
    "    \n",
    "    def forward(self, x, hidden):\n",
    "        ''' Forward pass through the network. \n",
    "            These inputs are x, and the hidden/cell state `hidden`. '''\n",
    "                \n",
    "        ## TODO: Get the outputs and the new hidden state from the lstm\n",
    "        out, hidden = self.lstm(x, hidden)\n",
    "        out = self.dropout(out)\n",
    "        out = out.contiguous().view(-1, self.n_hidden)\n",
    "        out = self.fc(out)\n",
    "        \n",
    "        # return the final output and the hidden state\n",
    "        return out, hidden\n",
    "    \n",
    "    \n",
    "    def init_hidden(self, batch_size):\n",
    "        ''' Initializes hidden state '''\n",
    "        # Create two new tensors with sizes n_layers x batch_size x n_hidden,\n",
    "        # initialized to zero, for hidden state and cell state of LSTM\n",
    "        weight = next(self.parameters()).data\n",
    "        \n",
    "        if (train_on_gpu):\n",
    "            hidden = (weight.new(self.n_layers, batch_size, self.n_hidden).zero_().cuda(),\n",
    "                  weight.new(self.n_layers, batch_size, self.n_hidden).zero_().cuda())\n",
    "        else:\n",
    "            hidden = (weight.new(self.n_layers, batch_size, self.n_hidden).zero_(),\n",
    "                      weight.new(self.n_layers, batch_size, self.n_hidden).zero_())\n",
    "        \n",
    "        return hidden\n",
    "        "
   ]
  },
  {
   "cell_type": "markdown",
   "metadata": {},
   "source": [
    "## Time to train\n",
    "\n",
    "The train function gives us the ability to set the number of epochs, the learning rate, and other parameters.\n",
    "\n",
    "Below we're using an Adam optimizer and cross entropy loss since we are looking at character class scores as output. We calculate the loss and perform backpropagation, as usual!\n",
    "\n",
    "A couple of details about training: \n",
    ">* Within the batch loop, we detach the hidden state from its history; this time setting it equal to a new *tuple* variable because an LSTM has a hidden state that is a tuple of the hidden and cell states.\n",
    "* We use [`clip_grad_norm_`](https://pytorch.org/docs/stable/_modules/torch/nn/utils/clip_grad.html) to help prevent exploding gradients."
   ]
  },
  {
   "cell_type": "code",
   "execution_count": 13,
   "metadata": {
    "ExecuteTime": {
     "end_time": "2018-11-24T22:50:23.377937Z",
     "start_time": "2018-11-24T22:50:23.369379Z"
    }
   },
   "outputs": [],
   "source": [
    "def train(net, data, epochs=10, batch_size=10, seq_length=50, lr=0.001, clip=5, val_frac=0.1, print_every=10):\n",
    "    ''' Training a network \n",
    "    \n",
    "        Arguments\n",
    "        ---------\n",
    "        \n",
    "        net: CharRNN network\n",
    "        data: text data to train the network\n",
    "        epochs: Number of epochs to train\n",
    "        batch_size: Number of mini-sequences per mini-batch, aka batch size\n",
    "        seq_length: Number of character steps per mini-batch\n",
    "        lr: learning rate\n",
    "        clip: gradient clipping\n",
    "        val_frac: Fraction of data to hold out for validation\n",
    "        print_every: Number of steps for printing training and validation loss\n",
    "    \n",
    "    '''\n",
    "    net.train()\n",
    "    \n",
    "    opt = torch.optim.Adam(net.parameters(), lr=lr)\n",
    "    criterion = nn.CrossEntropyLoss()\n",
    "    \n",
    "    # create training and validation data\n",
    "    val_idx = int(len(data)*(1-val_frac))\n",
    "    data, val_data = data[:val_idx], data[val_idx:]\n",
    "    \n",
    "    if(train_on_gpu):\n",
    "        net.cuda()\n",
    "    \n",
    "    counter = 0\n",
    "    n_chars = len(net.chars)\n",
    "    for e in range(epochs):\n",
    "        # initialize hidden state\n",
    "        h = net.init_hidden(batch_size)\n",
    "        \n",
    "        for x, y in get_batches(data, batch_size, seq_length):\n",
    "            counter += 1\n",
    "            \n",
    "            # One-hot encode our data and make them Torch tensors\n",
    "            x = one_hot_encode(x, n_chars)\n",
    "            inputs, targets = torch.from_numpy(x), torch.from_numpy(y)\n",
    "            \n",
    "            if(train_on_gpu):\n",
    "                inputs, targets = inputs.cuda(), targets.cuda()\n",
    "\n",
    "            # Creating new variables for the hidden state, otherwise\n",
    "            # we'd backprop through the entire training history\n",
    "            h = tuple([each.data for each in h])\n",
    "\n",
    "            # zero accumulated gradients\n",
    "            net.zero_grad()\n",
    "            \n",
    "            # get the output from the model\n",
    "            output, h = net(inputs, h)\n",
    "            \n",
    "            # calculate the loss and perform backprop\n",
    "            loss = criterion(output, targets.view(batch_size*seq_length))\n",
    "            loss.backward()\n",
    "            # `clip_grad_norm` helps prevent the exploding gradient problem in RNNs / LSTMs.\n",
    "            nn.utils.clip_grad_norm_(net.parameters(), clip)\n",
    "            opt.step()\n",
    "            \n",
    "            # loss stats\n",
    "            if counter % print_every == 0:\n",
    "                # Get validation loss\n",
    "                val_h = net.init_hidden(batch_size)\n",
    "                val_losses = []\n",
    "                net.eval()\n",
    "                for x, y in get_batches(val_data, batch_size, seq_length):\n",
    "                    # One-hot encode our data and make them Torch tensors\n",
    "                    x = one_hot_encode(x, n_chars)\n",
    "                    x, y = torch.from_numpy(x), torch.from_numpy(y)\n",
    "                    \n",
    "                    # Creating new variables for the hidden state, otherwise\n",
    "                    # we'd backprop through the entire training history\n",
    "                    val_h = tuple([each.data for each in val_h])\n",
    "                    \n",
    "                    inputs, targets = x, y\n",
    "                    if(train_on_gpu):\n",
    "                        inputs, targets = inputs.cuda(), targets.cuda()\n",
    "\n",
    "                    output, val_h = net(inputs, val_h)\n",
    "                    val_loss = criterion(output, targets.view(batch_size*seq_length))\n",
    "                \n",
    "                    val_losses.append(val_loss.item())\n",
    "                \n",
    "                net.train() # reset to train mode after iterationg through validation data\n",
    "                \n",
    "                print(\"Epoch: {}/{}...\".format(e+1, epochs),\n",
    "                      \"Step: {}...\".format(counter),\n",
    "                      \"Loss: {:.4f}...\".format(loss.item()),\n",
    "                      \"Val Loss: {:.4f}\".format(np.mean(val_losses)))"
   ]
  },
  {
   "cell_type": "markdown",
   "metadata": {},
   "source": [
    "## Instantiating the model\n",
    "\n",
    "Now we can actually train the network. First we'll create the network itself, with some given hyperparameters. Then, define the mini-batches sizes, and start training!"
   ]
  },
  {
   "cell_type": "code",
   "execution_count": 14,
   "metadata": {
    "ExecuteTime": {
     "end_time": "2018-11-24T22:50:23.415864Z",
     "start_time": "2018-11-24T22:50:23.379630Z"
    }
   },
   "outputs": [
    {
     "name": "stdout",
     "output_type": "stream",
     "text": [
      "CharRNN(\n",
      "  (lstm): LSTM(83, 512, num_layers=2, batch_first=True, dropout=0.5)\n",
      "  (dropout): Dropout(p=0.5)\n",
      "  (fc): Linear(in_features=512, out_features=83, bias=True)\n",
      ")\n"
     ]
    }
   ],
   "source": [
    "## TODO: set you model hyperparameters\n",
    "# define and print the net\n",
    "n_hidden=512\n",
    "n_layers=2\n",
    "\n",
    "net = CharRNN(chars, n_hidden, n_layers)\n",
    "print(net)"
   ]
  },
  {
   "cell_type": "markdown",
   "metadata": {},
   "source": [
    "### Set your training hyperparameters!"
   ]
  },
  {
   "cell_type": "code",
   "execution_count": 15,
   "metadata": {
    "ExecuteTime": {
     "end_time": "2018-11-24T23:03:13.610545Z",
     "start_time": "2018-11-24T22:50:23.417883Z"
    },
    "scrolled": true
   },
   "outputs": [
    {
     "name": "stdout",
     "output_type": "stream",
     "text": [
      "Epoch: 1/20... Step: 10... Loss: 3.2548... Val Loss: 3.1598\n",
      "Epoch: 1/20... Step: 20... Loss: 3.1393... Val Loss: 3.1284\n",
      "Epoch: 1/20... Step: 30... Loss: 3.1386... Val Loss: 3.1213\n",
      "Epoch: 1/20... Step: 40... Loss: 3.1127... Val Loss: 3.1194\n",
      "Epoch: 1/20... Step: 50... Loss: 3.1376... Val Loss: 3.1177\n",
      "Epoch: 1/20... Step: 60... Loss: 3.1181... Val Loss: 3.1158\n",
      "Epoch: 1/20... Step: 70... Loss: 3.1076... Val Loss: 3.1142\n",
      "Epoch: 1/20... Step: 80... Loss: 3.1214... Val Loss: 3.1094\n",
      "Epoch: 1/20... Step: 90... Loss: 3.1121... Val Loss: 3.0982\n",
      "Epoch: 1/20... Step: 100... Loss: 3.0817... Val Loss: 3.0721\n",
      "Epoch: 1/20... Step: 110... Loss: 3.0270... Val Loss: 3.0024\n",
      "Epoch: 1/20... Step: 120... Loss: 2.9533... Val Loss: 2.9445\n",
      "Epoch: 1/20... Step: 130... Loss: 2.8572... Val Loss: 2.8247\n",
      "Epoch: 2/20... Step: 140... Loss: 2.7498... Val Loss: 2.7011\n",
      "Epoch: 2/20... Step: 150... Loss: 2.6444... Val Loss: 2.5990\n",
      "Epoch: 2/20... Step: 160... Loss: 2.5796... Val Loss: 2.5398\n",
      "Epoch: 2/20... Step: 170... Loss: 2.5023... Val Loss: 2.4972\n",
      "Epoch: 2/20... Step: 180... Loss: 2.4666... Val Loss: 2.4479\n",
      "Epoch: 2/20... Step: 190... Loss: 2.4189... Val Loss: 2.4102\n",
      "Epoch: 2/20... Step: 200... Loss: 2.4298... Val Loss: 2.3853\n",
      "Epoch: 2/20... Step: 210... Loss: 2.3794... Val Loss: 2.3527\n",
      "Epoch: 2/20... Step: 220... Loss: 2.3392... Val Loss: 2.3252\n",
      "Epoch: 2/20... Step: 230... Loss: 2.3300... Val Loss: 2.3060\n",
      "Epoch: 2/20... Step: 240... Loss: 2.3156... Val Loss: 2.2817\n",
      "Epoch: 2/20... Step: 250... Loss: 2.2479... Val Loss: 2.2493\n",
      "Epoch: 2/20... Step: 260... Loss: 2.2217... Val Loss: 2.2209\n",
      "Epoch: 2/20... Step: 270... Loss: 2.2287... Val Loss: 2.1940\n",
      "Epoch: 3/20... Step: 280... Loss: 2.2271... Val Loss: 2.1703\n",
      "Epoch: 3/20... Step: 290... Loss: 2.1941... Val Loss: 2.1473\n",
      "Epoch: 3/20... Step: 300... Loss: 2.1625... Val Loss: 2.1260\n",
      "Epoch: 3/20... Step: 310... Loss: 2.1369... Val Loss: 2.1112\n",
      "Epoch: 3/20... Step: 320... Loss: 2.1042... Val Loss: 2.0903\n",
      "Epoch: 3/20... Step: 330... Loss: 2.0712... Val Loss: 2.0722\n",
      "Epoch: 3/20... Step: 340... Loss: 2.0992... Val Loss: 2.0520\n",
      "Epoch: 3/20... Step: 350... Loss: 2.0746... Val Loss: 2.0398\n",
      "Epoch: 3/20... Step: 360... Loss: 2.0077... Val Loss: 2.0198\n",
      "Epoch: 3/20... Step: 370... Loss: 2.0393... Val Loss: 2.0011\n",
      "Epoch: 3/20... Step: 380... Loss: 2.0096... Val Loss: 1.9885\n",
      "Epoch: 3/20... Step: 390... Loss: 1.9861... Val Loss: 1.9727\n",
      "Epoch: 3/20... Step: 400... Loss: 1.9605... Val Loss: 1.9532\n",
      "Epoch: 3/20... Step: 410... Loss: 1.9687... Val Loss: 1.9380\n",
      "Epoch: 4/20... Step: 420... Loss: 1.9576... Val Loss: 1.9265\n",
      "Epoch: 4/20... Step: 430... Loss: 1.9479... Val Loss: 1.9080\n",
      "Epoch: 4/20... Step: 440... Loss: 1.9401... Val Loss: 1.9016\n",
      "Epoch: 4/20... Step: 450... Loss: 1.8720... Val Loss: 1.8834\n",
      "Epoch: 4/20... Step: 460... Loss: 1.8600... Val Loss: 1.8708\n",
      "Epoch: 4/20... Step: 470... Loss: 1.8920... Val Loss: 1.8635\n",
      "Epoch: 4/20... Step: 480... Loss: 1.8727... Val Loss: 1.8490\n",
      "Epoch: 4/20... Step: 490... Loss: 1.8769... Val Loss: 1.8412\n",
      "Epoch: 4/20... Step: 500... Loss: 1.8710... Val Loss: 1.8227\n",
      "Epoch: 4/20... Step: 510... Loss: 1.8380... Val Loss: 1.8124\n",
      "Epoch: 4/20... Step: 520... Loss: 1.8622... Val Loss: 1.8020\n",
      "Epoch: 4/20... Step: 530... Loss: 1.8265... Val Loss: 1.7926\n",
      "Epoch: 4/20... Step: 540... Loss: 1.7760... Val Loss: 1.7808\n",
      "Epoch: 4/20... Step: 550... Loss: 1.8236... Val Loss: 1.7691\n",
      "Epoch: 5/20... Step: 560... Loss: 1.7864... Val Loss: 1.7639\n",
      "Epoch: 5/20... Step: 570... Loss: 1.7805... Val Loss: 1.7503\n",
      "Epoch: 5/20... Step: 580... Loss: 1.7625... Val Loss: 1.7422\n",
      "Epoch: 5/20... Step: 590... Loss: 1.7570... Val Loss: 1.7321\n",
      "Epoch: 5/20... Step: 600... Loss: 1.7399... Val Loss: 1.7219\n",
      "Epoch: 5/20... Step: 610... Loss: 1.7282... Val Loss: 1.7182\n",
      "Epoch: 5/20... Step: 620... Loss: 1.7334... Val Loss: 1.7090\n",
      "Epoch: 5/20... Step: 630... Loss: 1.7460... Val Loss: 1.7016\n",
      "Epoch: 5/20... Step: 640... Loss: 1.7136... Val Loss: 1.6937\n",
      "Epoch: 5/20... Step: 650... Loss: 1.6996... Val Loss: 1.6871\n",
      "Epoch: 5/20... Step: 660... Loss: 1.6743... Val Loss: 1.6797\n",
      "Epoch: 5/20... Step: 670... Loss: 1.7031... Val Loss: 1.6734\n",
      "Epoch: 5/20... Step: 680... Loss: 1.6890... Val Loss: 1.6652\n",
      "Epoch: 5/20... Step: 690... Loss: 1.6775... Val Loss: 1.6572\n",
      "Epoch: 6/20... Step: 700... Loss: 1.6730... Val Loss: 1.6535\n",
      "Epoch: 6/20... Step: 710... Loss: 1.6673... Val Loss: 1.6459\n",
      "Epoch: 6/20... Step: 720... Loss: 1.6541... Val Loss: 1.6384\n",
      "Epoch: 6/20... Step: 730... Loss: 1.6631... Val Loss: 1.6303\n",
      "Epoch: 6/20... Step: 740... Loss: 1.6262... Val Loss: 1.6273\n",
      "Epoch: 6/20... Step: 750... Loss: 1.6080... Val Loss: 1.6215\n",
      "Epoch: 6/20... Step: 760... Loss: 1.6551... Val Loss: 1.6158\n",
      "Epoch: 6/20... Step: 770... Loss: 1.6280... Val Loss: 1.6114\n",
      "Epoch: 6/20... Step: 780... Loss: 1.6109... Val Loss: 1.6038\n",
      "Epoch: 6/20... Step: 790... Loss: 1.6065... Val Loss: 1.5977\n",
      "Epoch: 6/20... Step: 800... Loss: 1.6122... Val Loss: 1.5965\n",
      "Epoch: 6/20... Step: 810... Loss: 1.6043... Val Loss: 1.5887\n",
      "Epoch: 6/20... Step: 820... Loss: 1.5656... Val Loss: 1.5848\n",
      "Epoch: 6/20... Step: 830... Loss: 1.6078... Val Loss: 1.5794\n",
      "Epoch: 7/20... Step: 840... Loss: 1.5590... Val Loss: 1.5741\n",
      "Epoch: 7/20... Step: 850... Loss: 1.5798... Val Loss: 1.5693\n",
      "Epoch: 7/20... Step: 860... Loss: 1.5680... Val Loss: 1.5620\n",
      "Epoch: 7/20... Step: 870... Loss: 1.5694... Val Loss: 1.5590\n",
      "Epoch: 7/20... Step: 880... Loss: 1.5665... Val Loss: 1.5556\n",
      "Epoch: 7/20... Step: 890... Loss: 1.5701... Val Loss: 1.5513\n",
      "Epoch: 7/20... Step: 900... Loss: 1.5497... Val Loss: 1.5490\n",
      "Epoch: 7/20... Step: 910... Loss: 1.5264... Val Loss: 1.5450\n",
      "Epoch: 7/20... Step: 920... Loss: 1.5469... Val Loss: 1.5398\n",
      "Epoch: 7/20... Step: 930... Loss: 1.5343... Val Loss: 1.5362\n",
      "Epoch: 7/20... Step: 940... Loss: 1.5406... Val Loss: 1.5344\n",
      "Epoch: 7/20... Step: 950... Loss: 1.5490... Val Loss: 1.5280\n",
      "Epoch: 7/20... Step: 960... Loss: 1.5451... Val Loss: 1.5267\n",
      "Epoch: 7/20... Step: 970... Loss: 1.5520... Val Loss: 1.5215\n",
      "Epoch: 8/20... Step: 980... Loss: 1.5293... Val Loss: 1.5186\n",
      "Epoch: 8/20... Step: 990... Loss: 1.5213... Val Loss: 1.5135\n",
      "Epoch: 8/20... Step: 1000... Loss: 1.5172... Val Loss: 1.5095\n",
      "Epoch: 8/20... Step: 1010... Loss: 1.5480... Val Loss: 1.5048\n",
      "Epoch: 8/20... Step: 1020... Loss: 1.5143... Val Loss: 1.5027\n",
      "Epoch: 8/20... Step: 1030... Loss: 1.5009... Val Loss: 1.4986\n",
      "Epoch: 8/20... Step: 1040... Loss: 1.5097... Val Loss: 1.5018\n",
      "Epoch: 8/20... Step: 1050... Loss: 1.4885... Val Loss: 1.4945\n",
      "Epoch: 8/20... Step: 1060... Loss: 1.4926... Val Loss: 1.4902\n",
      "Epoch: 8/20... Step: 1070... Loss: 1.4929... Val Loss: 1.4883\n",
      "Epoch: 8/20... Step: 1080... Loss: 1.4940... Val Loss: 1.4875\n",
      "Epoch: 8/20... Step: 1090... Loss: 1.4825... Val Loss: 1.4801\n",
      "Epoch: 8/20... Step: 1100... Loss: 1.4795... Val Loss: 1.4785\n",
      "Epoch: 8/20... Step: 1110... Loss: 1.4820... Val Loss: 1.4761\n",
      "Epoch: 9/20... Step: 1120... Loss: 1.4918... Val Loss: 1.4762\n",
      "Epoch: 9/20... Step: 1130... Loss: 1.4760... Val Loss: 1.4728\n",
      "Epoch: 9/20... Step: 1140... Loss: 1.4870... Val Loss: 1.4681\n",
      "Epoch: 9/20... Step: 1150... Loss: 1.5075... Val Loss: 1.4642\n",
      "Epoch: 9/20... Step: 1160... Loss: 1.4540... Val Loss: 1.4635\n",
      "Epoch: 9/20... Step: 1170... Loss: 1.4634... Val Loss: 1.4627\n",
      "Epoch: 9/20... Step: 1180... Loss: 1.4483... Val Loss: 1.4635\n",
      "Epoch: 9/20... Step: 1190... Loss: 1.4936... Val Loss: 1.4562\n",
      "Epoch: 9/20... Step: 1200... Loss: 1.4301... Val Loss: 1.4574\n",
      "Epoch: 9/20... Step: 1210... Loss: 1.4489... Val Loss: 1.4513\n",
      "Epoch: 9/20... Step: 1220... Loss: 1.4460... Val Loss: 1.4505\n",
      "Epoch: 9/20... Step: 1230... Loss: 1.4273... Val Loss: 1.4448\n",
      "Epoch: 9/20... Step: 1240... Loss: 1.4335... Val Loss: 1.4407\n",
      "Epoch: 9/20... Step: 1250... Loss: 1.4379... Val Loss: 1.4412\n",
      "Epoch: 10/20... Step: 1260... Loss: 1.4460... Val Loss: 1.4384\n",
      "Epoch: 10/20... Step: 1270... Loss: 1.4497... Val Loss: 1.4362\n",
      "Epoch: 10/20... Step: 1280... Loss: 1.4537... Val Loss: 1.4342\n",
      "Epoch: 10/20... Step: 1290... Loss: 1.4424... Val Loss: 1.4331\n",
      "Epoch: 10/20... Step: 1300... Loss: 1.4344... Val Loss: 1.4301\n",
      "Epoch: 10/20... Step: 1310... Loss: 1.4348... Val Loss: 1.4301\n",
      "Epoch: 10/20... Step: 1320... Loss: 1.4055... Val Loss: 1.4302\n",
      "Epoch: 10/20... Step: 1330... Loss: 1.4207... Val Loss: 1.4284\n",
      "Epoch: 10/20... Step: 1340... Loss: 1.4027... Val Loss: 1.4230\n"
     ]
    },
    {
     "name": "stdout",
     "output_type": "stream",
     "text": [
      "Epoch: 10/20... Step: 1350... Loss: 1.3934... Val Loss: 1.4210\n",
      "Epoch: 10/20... Step: 1360... Loss: 1.3971... Val Loss: 1.4213\n",
      "Epoch: 10/20... Step: 1370... Loss: 1.3838... Val Loss: 1.4182\n",
      "Epoch: 10/20... Step: 1380... Loss: 1.4315... Val Loss: 1.4143\n",
      "Epoch: 10/20... Step: 1390... Loss: 1.4259... Val Loss: 1.4122\n",
      "Epoch: 11/20... Step: 1400... Loss: 1.4352... Val Loss: 1.4117\n",
      "Epoch: 11/20... Step: 1410... Loss: 1.4439... Val Loss: 1.4104\n",
      "Epoch: 11/20... Step: 1420... Loss: 1.4271... Val Loss: 1.4051\n",
      "Epoch: 11/20... Step: 1430... Loss: 1.4008... Val Loss: 1.4071\n",
      "Epoch: 11/20... Step: 1440... Loss: 1.4197... Val Loss: 1.4035\n",
      "Epoch: 11/20... Step: 1450... Loss: 1.3537... Val Loss: 1.4043\n",
      "Epoch: 11/20... Step: 1460... Loss: 1.3808... Val Loss: 1.4006\n",
      "Epoch: 11/20... Step: 1470... Loss: 1.3762... Val Loss: 1.4011\n",
      "Epoch: 11/20... Step: 1480... Loss: 1.3957... Val Loss: 1.4008\n",
      "Epoch: 11/20... Step: 1490... Loss: 1.3793... Val Loss: 1.3956\n",
      "Epoch: 11/20... Step: 1500... Loss: 1.3703... Val Loss: 1.3993\n",
      "Epoch: 11/20... Step: 1510... Loss: 1.3557... Val Loss: 1.3950\n",
      "Epoch: 11/20... Step: 1520... Loss: 1.3880... Val Loss: 1.3911\n",
      "Epoch: 12/20... Step: 1530... Loss: 1.4334... Val Loss: 1.3915\n",
      "Epoch: 12/20... Step: 1540... Loss: 1.3983... Val Loss: 1.3886\n",
      "Epoch: 12/20... Step: 1550... Loss: 1.3984... Val Loss: 1.3874\n",
      "Epoch: 12/20... Step: 1560... Loss: 1.4088... Val Loss: 1.3861\n",
      "Epoch: 12/20... Step: 1570... Loss: 1.3595... Val Loss: 1.3851\n",
      "Epoch: 12/20... Step: 1580... Loss: 1.3307... Val Loss: 1.3846\n",
      "Epoch: 12/20... Step: 1590... Loss: 1.3327... Val Loss: 1.3822\n",
      "Epoch: 12/20... Step: 1600... Loss: 1.3559... Val Loss: 1.3858\n",
      "Epoch: 12/20... Step: 1610... Loss: 1.3438... Val Loss: 1.3821\n",
      "Epoch: 12/20... Step: 1620... Loss: 1.3492... Val Loss: 1.3809\n",
      "Epoch: 12/20... Step: 1630... Loss: 1.3700... Val Loss: 1.3772\n",
      "Epoch: 12/20... Step: 1640... Loss: 1.3390... Val Loss: 1.3794\n",
      "Epoch: 12/20... Step: 1650... Loss: 1.3296... Val Loss: 1.3751\n",
      "Epoch: 12/20... Step: 1660... Loss: 1.3845... Val Loss: 1.3740\n",
      "Epoch: 13/20... Step: 1670... Loss: 1.3464... Val Loss: 1.3755\n",
      "Epoch: 13/20... Step: 1680... Loss: 1.3650... Val Loss: 1.3719\n",
      "Epoch: 13/20... Step: 1690... Loss: 1.3416... Val Loss: 1.3676\n",
      "Epoch: 13/20... Step: 1700... Loss: 1.3403... Val Loss: 1.3679\n",
      "Epoch: 13/20... Step: 1710... Loss: 1.3170... Val Loss: 1.3663\n",
      "Epoch: 13/20... Step: 1720... Loss: 1.3346... Val Loss: 1.3675\n",
      "Epoch: 13/20... Step: 1730... Loss: 1.3732... Val Loss: 1.3657\n",
      "Epoch: 13/20... Step: 1740... Loss: 1.3355... Val Loss: 1.3688\n",
      "Epoch: 13/20... Step: 1750... Loss: 1.3063... Val Loss: 1.3679\n",
      "Epoch: 13/20... Step: 1760... Loss: 1.3361... Val Loss: 1.3649\n",
      "Epoch: 13/20... Step: 1770... Loss: 1.3505... Val Loss: 1.3627\n",
      "Epoch: 13/20... Step: 1780... Loss: 1.3182... Val Loss: 1.3636\n",
      "Epoch: 13/20... Step: 1790... Loss: 1.3132... Val Loss: 1.3594\n",
      "Epoch: 13/20... Step: 1800... Loss: 1.3344... Val Loss: 1.3578\n",
      "Epoch: 14/20... Step: 1810... Loss: 1.3306... Val Loss: 1.3591\n",
      "Epoch: 14/20... Step: 1820... Loss: 1.3232... Val Loss: 1.3560\n",
      "Epoch: 14/20... Step: 1830... Loss: 1.3428... Val Loss: 1.3540\n",
      "Epoch: 14/20... Step: 1840... Loss: 1.2887... Val Loss: 1.3563\n",
      "Epoch: 14/20... Step: 1850... Loss: 1.2788... Val Loss: 1.3515\n",
      "Epoch: 14/20... Step: 1860... Loss: 1.3237... Val Loss: 1.3548\n",
      "Epoch: 14/20... Step: 1870... Loss: 1.3369... Val Loss: 1.3534\n",
      "Epoch: 14/20... Step: 1880... Loss: 1.3288... Val Loss: 1.3550\n",
      "Epoch: 14/20... Step: 1890... Loss: 1.3470... Val Loss: 1.3530\n",
      "Epoch: 14/20... Step: 1900... Loss: 1.3126... Val Loss: 1.3542\n",
      "Epoch: 14/20... Step: 1910... Loss: 1.3143... Val Loss: 1.3500\n",
      "Epoch: 14/20... Step: 1920... Loss: 1.3205... Val Loss: 1.3479\n",
      "Epoch: 14/20... Step: 1930... Loss: 1.2783... Val Loss: 1.3461\n",
      "Epoch: 14/20... Step: 1940... Loss: 1.3367... Val Loss: 1.3439\n",
      "Epoch: 15/20... Step: 1950... Loss: 1.3066... Val Loss: 1.3474\n",
      "Epoch: 15/20... Step: 1960... Loss: 1.3094... Val Loss: 1.3412\n",
      "Epoch: 15/20... Step: 1970... Loss: 1.3036... Val Loss: 1.3383\n",
      "Epoch: 15/20... Step: 1980... Loss: 1.2919... Val Loss: 1.3435\n",
      "Epoch: 15/20... Step: 1990... Loss: 1.2873... Val Loss: 1.3389\n",
      "Epoch: 15/20... Step: 2000... Loss: 1.2730... Val Loss: 1.3404\n",
      "Epoch: 15/20... Step: 2010... Loss: 1.3005... Val Loss: 1.3386\n",
      "Epoch: 15/20... Step: 2020... Loss: 1.3145... Val Loss: 1.3395\n",
      "Epoch: 15/20... Step: 2030... Loss: 1.2862... Val Loss: 1.3429\n",
      "Epoch: 15/20... Step: 2040... Loss: 1.3002... Val Loss: 1.3357\n",
      "Epoch: 15/20... Step: 2050... Loss: 1.2862... Val Loss: 1.3344\n",
      "Epoch: 15/20... Step: 2060... Loss: 1.2985... Val Loss: 1.3386\n",
      "Epoch: 15/20... Step: 2070... Loss: 1.3055... Val Loss: 1.3345\n",
      "Epoch: 15/20... Step: 2080... Loss: 1.2851... Val Loss: 1.3349\n",
      "Epoch: 16/20... Step: 2090... Loss: 1.3029... Val Loss: 1.3289\n",
      "Epoch: 16/20... Step: 2100... Loss: 1.2785... Val Loss: 1.3331\n",
      "Epoch: 16/20... Step: 2110... Loss: 1.2737... Val Loss: 1.3291\n",
      "Epoch: 16/20... Step: 2120... Loss: 1.2955... Val Loss: 1.3297\n",
      "Epoch: 16/20... Step: 2130... Loss: 1.2645... Val Loss: 1.3281\n",
      "Epoch: 16/20... Step: 2140... Loss: 1.2674... Val Loss: 1.3273\n",
      "Epoch: 16/20... Step: 2150... Loss: 1.2987... Val Loss: 1.3244\n",
      "Epoch: 16/20... Step: 2160... Loss: 1.2793... Val Loss: 1.3279\n",
      "Epoch: 16/20... Step: 2170... Loss: 1.2713... Val Loss: 1.3249\n",
      "Epoch: 16/20... Step: 2180... Loss: 1.2660... Val Loss: 1.3240\n",
      "Epoch: 16/20... Step: 2190... Loss: 1.2904... Val Loss: 1.3233\n",
      "Epoch: 16/20... Step: 2200... Loss: 1.2708... Val Loss: 1.3228\n",
      "Epoch: 16/20... Step: 2210... Loss: 1.2396... Val Loss: 1.3207\n",
      "Epoch: 16/20... Step: 2220... Loss: 1.2785... Val Loss: 1.3248\n",
      "Epoch: 17/20... Step: 2230... Loss: 1.2586... Val Loss: 1.3184\n",
      "Epoch: 17/20... Step: 2240... Loss: 1.2719... Val Loss: 1.3183\n",
      "Epoch: 17/20... Step: 2250... Loss: 1.2522... Val Loss: 1.3135\n",
      "Epoch: 17/20... Step: 2260... Loss: 1.2568... Val Loss: 1.3138\n",
      "Epoch: 17/20... Step: 2270... Loss: 1.2714... Val Loss: 1.3133\n",
      "Epoch: 17/20... Step: 2280... Loss: 1.2745... Val Loss: 1.3106\n",
      "Epoch: 17/20... Step: 2290... Loss: 1.2799... Val Loss: 1.3078\n",
      "Epoch: 17/20... Step: 2300... Loss: 1.2358... Val Loss: 1.3098\n",
      "Epoch: 17/20... Step: 2310... Loss: 1.2606... Val Loss: 1.3101\n",
      "Epoch: 17/20... Step: 2320... Loss: 1.2430... Val Loss: 1.3080\n",
      "Epoch: 17/20... Step: 2330... Loss: 1.2434... Val Loss: 1.3053\n",
      "Epoch: 17/20... Step: 2340... Loss: 1.2665... Val Loss: 1.3096\n",
      "Epoch: 17/20... Step: 2350... Loss: 1.2666... Val Loss: 1.3048\n",
      "Epoch: 17/20... Step: 2360... Loss: 1.2731... Val Loss: 1.3069\n",
      "Epoch: 18/20... Step: 2370... Loss: 1.2491... Val Loss: 1.3056\n",
      "Epoch: 18/20... Step: 2380... Loss: 1.2511... Val Loss: 1.3031\n",
      "Epoch: 18/20... Step: 2390... Loss: 1.2506... Val Loss: 1.3012\n",
      "Epoch: 18/20... Step: 2400... Loss: 1.2684... Val Loss: 1.3032\n",
      "Epoch: 18/20... Step: 2410... Loss: 1.2719... Val Loss: 1.3066\n",
      "Epoch: 18/20... Step: 2420... Loss: 1.2444... Val Loss: 1.3005\n",
      "Epoch: 18/20... Step: 2430... Loss: 1.2492... Val Loss: 1.3022\n",
      "Epoch: 18/20... Step: 2440... Loss: 1.2358... Val Loss: 1.2980\n",
      "Epoch: 18/20... Step: 2450... Loss: 1.2309... Val Loss: 1.2949\n",
      "Epoch: 18/20... Step: 2460... Loss: 1.2510... Val Loss: 1.2933\n",
      "Epoch: 18/20... Step: 2470... Loss: 1.2376... Val Loss: 1.2967\n",
      "Epoch: 18/20... Step: 2480... Loss: 1.2325... Val Loss: 1.2968\n",
      "Epoch: 18/20... Step: 2490... Loss: 1.2222... Val Loss: 1.2935\n",
      "Epoch: 18/20... Step: 2500... Loss: 1.2331... Val Loss: 1.2979\n",
      "Epoch: 19/20... Step: 2510... Loss: 1.2392... Val Loss: 1.3002\n",
      "Epoch: 19/20... Step: 2520... Loss: 1.2431... Val Loss: 1.2944\n",
      "Epoch: 19/20... Step: 2530... Loss: 1.2482... Val Loss: 1.2904\n",
      "Epoch: 19/20... Step: 2540... Loss: 1.2672... Val Loss: 1.2897\n",
      "Epoch: 19/20... Step: 2550... Loss: 1.2162... Val Loss: 1.2954\n",
      "Epoch: 19/20... Step: 2560... Loss: 1.2375... Val Loss: 1.2909\n",
      "Epoch: 19/20... Step: 2570... Loss: 1.2280... Val Loss: 1.2898\n",
      "Epoch: 19/20... Step: 2580... Loss: 1.2590... Val Loss: 1.2882\n",
      "Epoch: 19/20... Step: 2590... Loss: 1.2237... Val Loss: 1.2851\n",
      "Epoch: 19/20... Step: 2600... Loss: 1.2193... Val Loss: 1.2828\n",
      "Epoch: 19/20... Step: 2610... Loss: 1.2301... Val Loss: 1.2863\n",
      "Epoch: 19/20... Step: 2620... Loss: 1.2108... Val Loss: 1.2894\n",
      "Epoch: 19/20... Step: 2630... Loss: 1.2205... Val Loss: 1.2870\n",
      "Epoch: 19/20... Step: 2640... Loss: 1.2322... Val Loss: 1.2882\n",
      "Epoch: 20/20... Step: 2650... Loss: 1.2366... Val Loss: 1.2868\n"
     ]
    },
    {
     "name": "stdout",
     "output_type": "stream",
     "text": [
      "Epoch: 20/20... Step: 2660... Loss: 1.2322... Val Loss: 1.2852\n",
      "Epoch: 20/20... Step: 2670... Loss: 1.2445... Val Loss: 1.2852\n",
      "Epoch: 20/20... Step: 2680... Loss: 1.2333... Val Loss: 1.2835\n",
      "Epoch: 20/20... Step: 2690... Loss: 1.2230... Val Loss: 1.2850\n",
      "Epoch: 20/20... Step: 2700... Loss: 1.2361... Val Loss: 1.2817\n",
      "Epoch: 20/20... Step: 2710... Loss: 1.2091... Val Loss: 1.2807\n",
      "Epoch: 20/20... Step: 2720... Loss: 1.1961... Val Loss: 1.2794\n",
      "Epoch: 20/20... Step: 2730... Loss: 1.2025... Val Loss: 1.2789\n",
      "Epoch: 20/20... Step: 2740... Loss: 1.2043... Val Loss: 1.2760\n",
      "Epoch: 20/20... Step: 2750... Loss: 1.2052... Val Loss: 1.2812\n",
      "Epoch: 20/20... Step: 2760... Loss: 1.1912... Val Loss: 1.2847\n",
      "Epoch: 20/20... Step: 2770... Loss: 1.2385... Val Loss: 1.2800\n",
      "Epoch: 20/20... Step: 2780... Loss: 1.2492... Val Loss: 1.2798\n"
     ]
    }
   ],
   "source": [
    "batch_size = 128\n",
    "seq_length = 100\n",
    "n_epochs = 20 # start small if you are just testing initial behavior\n",
    "\n",
    "# train the model\n",
    "train(net, encoded, epochs=n_epochs, batch_size=batch_size, seq_length=seq_length, lr=0.001, print_every=10)"
   ]
  },
  {
   "cell_type": "markdown",
   "metadata": {},
   "source": [
    "## Getting the best model\n",
    "\n",
    "To set your hyperparameters to get the best performance, you'll want to watch the training and validation losses. If your training loss is much lower than the validation loss, you're overfitting. Increase regularization (more dropout) or use a smaller network. If the training and validation losses are close, you're underfitting so you can increase the size of the network."
   ]
  },
  {
   "cell_type": "markdown",
   "metadata": {},
   "source": [
    "## Hyperparameters\n",
    "\n",
    "Here are the hyperparameters for the network.\n",
    "\n",
    "In defining the model:\n",
    "* `n_hidden` - The number of units in the hidden layers.\n",
    "* `n_layers` - Number of hidden LSTM layers to use.\n",
    "\n",
    "We assume that dropout probability and learning rate will be kept at the default, in this example.\n",
    "\n",
    "And in training:\n",
    "* `batch_size` - Number of sequences running through the network in one pass.\n",
    "* `seq_length` - Number of characters in the sequence the network is trained on. Larger is better typically, the network will learn more long range dependencies. But it takes longer to train. 100 is typically a good number here.\n",
    "* `lr` - Learning rate for training\n",
    "\n",
    "Here's some good advice from Andrej Karpathy on training the network. I'm going to copy it in here for your benefit, but also link to [where it originally came from](https://github.com/karpathy/char-rnn#tips-and-tricks).\n",
    "\n",
    "> ## Tips and Tricks\n",
    "\n",
    ">### Monitoring Validation Loss vs. Training Loss\n",
    ">If you're somewhat new to Machine Learning or Neural Networks it can take a bit of expertise to get good models. The most important quantity to keep track of is the difference between your training loss (printed during training) and the validation loss (printed once in a while when the RNN is run on the validation data (by default every 1000 iterations)). In particular:\n",
    "\n",
    "> - If your training loss is much lower than validation loss then this means the network might be **overfitting**. Solutions to this are to decrease your network size, or to increase dropout. For example you could try dropout of 0.5 and so on.\n",
    "> - If your training/validation loss are about equal then your model is **underfitting**. Increase the size of your model (either number of layers or the raw number of neurons per layer)\n",
    "\n",
    "> ### Approximate number of parameters\n",
    "\n",
    "> The two most important parameters that control the model are `n_hidden` and `n_layers`. I would advise that you always use `n_layers` of either 2/3. The `n_hidden` can be adjusted based on how much data you have. The two important quantities to keep track of here are:\n",
    "\n",
    "> - The number of parameters in your model. This is printed when you start training.\n",
    "> - The size of your dataset. 1MB file is approximately 1 million characters.\n",
    "\n",
    ">These two should be about the same order of magnitude. It's a little tricky to tell. Here are some examples:\n",
    "\n",
    "> - I have a 100MB dataset and I'm using the default parameter settings (which currently print 150K parameters). My data size is significantly larger (100 mil >> 0.15 mil), so I expect to heavily underfit. I am thinking I can comfortably afford to make `n_hidden` larger.\n",
    "> - I have a 10MB dataset and running a 10 million parameter model. I'm slightly nervous and I'm carefully monitoring my validation loss. If it's larger than my training loss then I may want to try to increase dropout a bit and see if that helps the validation loss.\n",
    "\n",
    "> ### Best models strategy\n",
    "\n",
    ">The winning strategy to obtaining very good models (if you have the compute time) is to always err on making the network larger (as large as you're willing to wait for it to compute) and then try different dropout values (between 0,1). Whatever model has the best validation performance (the loss, written in the checkpoint filename, low is good) is the one you should use in the end.\n",
    "\n",
    ">It is very common in deep learning to run many different models with many different hyperparameter settings, and in the end take whatever checkpoint gave the best validation performance.\n",
    "\n",
    ">By the way, the size of your training and validation splits are also parameters. Make sure you have a decent amount of data in your validation set or otherwise the validation performance will be noisy and not very informative."
   ]
  },
  {
   "cell_type": "markdown",
   "metadata": {},
   "source": [
    "## Checkpoint\n",
    "\n",
    "After training, we'll save the model so we can load it again later if we need too. Here I'm saving the parameters needed to create the same architecture, the hidden layer hyperparameters and the text characters."
   ]
  },
  {
   "cell_type": "code",
   "execution_count": 16,
   "metadata": {
    "ExecuteTime": {
     "end_time": "2018-11-24T23:03:13.675853Z",
     "start_time": "2018-11-24T23:03:13.617862Z"
    }
   },
   "outputs": [],
   "source": [
    "# change the name, for saving multiple files\n",
    "model_name = 'rnn_x_epoch.net'\n",
    "\n",
    "checkpoint = {'n_hidden': net.n_hidden,\n",
    "              'n_layers': net.n_layers,\n",
    "              'state_dict': net.state_dict(),\n",
    "              'tokens': net.chars}\n",
    "\n",
    "with open(model_name, 'wb') as f:\n",
    "    torch.save(checkpoint, f)"
   ]
  },
  {
   "cell_type": "markdown",
   "metadata": {},
   "source": [
    "---\n",
    "## Making Predictions\n",
    "\n",
    "Now that the model is trained, we'll want to sample from it and make predictions about next characters! To sample, we pass in a character and have the network predict the next character. Then we take that character, pass it back in, and get another predicted character. Just keep doing this and you'll generate a bunch of text!\n",
    "\n",
    "### A note on the `predict`  function\n",
    "\n",
    "The output of our RNN is from a fully-connected layer and it outputs a **distribution of next-character scores**.\n",
    "\n",
    "> To actually get the next character, we apply a softmax function, which gives us a *probability* distribution that we can then sample to predict the next character.\n",
    "\n",
    "### Top K sampling\n",
    "\n",
    "Our predictions come from a categorical probability distribution over all the possible characters. We can make the sample text and make it more reasonable to handle (with less variables) by only considering some $K$ most probable characters. This will prevent the network from giving us completely absurd characters while allowing it to introduce some noise and randomness into the sampled text. Read more about [topk, here](https://pytorch.org/docs/stable/torch.html#torch.topk).\n"
   ]
  },
  {
   "cell_type": "code",
   "execution_count": 17,
   "metadata": {
    "ExecuteTime": {
     "end_time": "2018-11-24T23:03:13.704038Z",
     "start_time": "2018-11-24T23:03:13.683518Z"
    }
   },
   "outputs": [],
   "source": [
    "def predict(net, char, h=None, top_k=None):\n",
    "        ''' Given a character, predict the next character.\n",
    "            Returns the predicted character and the hidden state.\n",
    "        '''\n",
    "        \n",
    "        # tensor inputs\n",
    "        x = np.array([[net.char2int[char]]])\n",
    "        x = one_hot_encode(x, len(net.chars))\n",
    "        inputs = torch.from_numpy(x)\n",
    "        \n",
    "        if(train_on_gpu):\n",
    "            inputs = inputs.cuda()\n",
    "        \n",
    "        # detach hidden state from history\n",
    "        h = tuple([each.data for each in h])\n",
    "        # get the output of the model\n",
    "        out, h = net(inputs, h)\n",
    "\n",
    "        # get the character probabilities\n",
    "        p = F.softmax(out, dim=1).data\n",
    "        if(train_on_gpu):\n",
    "            p = p.cpu() # move to cpu\n",
    "        \n",
    "        # get top characters\n",
    "        if top_k is None:\n",
    "            top_ch = np.arange(len(net.chars))\n",
    "        else:\n",
    "            p, top_ch = p.topk(top_k)\n",
    "            top_ch = top_ch.numpy().squeeze()\n",
    "        \n",
    "        # select the likely next character with some element of randomness\n",
    "        p = p.numpy().squeeze()\n",
    "        char = np.random.choice(top_ch, p=p/p.sum())\n",
    "        \n",
    "        # return the encoded value of the predicted char and the hidden state\n",
    "        return net.int2char[char], h"
   ]
  },
  {
   "cell_type": "markdown",
   "metadata": {},
   "source": [
    "### Priming and generating text \n",
    "\n",
    "Typically you'll want to prime the network so you can build up a hidden state. Otherwise the network will start out generating characters at random. In general the first bunch of characters will be a little rough since it hasn't built up a long history of characters to predict from."
   ]
  },
  {
   "cell_type": "code",
   "execution_count": 18,
   "metadata": {
    "ExecuteTime": {
     "end_time": "2018-11-24T23:03:13.724593Z",
     "start_time": "2018-11-24T23:03:13.709977Z"
    }
   },
   "outputs": [],
   "source": [
    "def sample(net, size, prime='The', top_k=None):\n",
    "        \n",
    "    if(train_on_gpu):\n",
    "        net.cuda()\n",
    "    else:\n",
    "        net.cpu()\n",
    "    \n",
    "    net.eval() # eval mode\n",
    "    \n",
    "    # First off, run through the prime characters\n",
    "    chars = [ch for ch in prime]\n",
    "    h = net.init_hidden(1)\n",
    "    for ch in prime:\n",
    "        char, h = predict(net, ch, h, top_k=top_k)\n",
    "\n",
    "    chars.append(char)\n",
    "    \n",
    "    # Now pass in the previous character and get a new one\n",
    "    for ii in range(size):\n",
    "        char, h = predict(net, chars[-1], h, top_k=top_k)\n",
    "        chars.append(char)\n",
    "\n",
    "    return ''.join(chars)"
   ]
  },
  {
   "cell_type": "code",
   "execution_count": 19,
   "metadata": {
    "ExecuteTime": {
     "end_time": "2018-11-24T23:03:15.678552Z",
     "start_time": "2018-11-24T23:03:13.732715Z"
    }
   },
   "outputs": [
    {
     "name": "stdout",
     "output_type": "stream",
     "text": [
      "Anna, that\n",
      "the party would be done to such any other times over the\n",
      "country, with them. He would have been sent an table, as she was\n",
      "at that standing of the cross, so that there was a cold-father's words.\n",
      "\n",
      "The carriage would so to hear this to ask the subject. He was\n",
      "not\n",
      "to to see her to her, the secretary to speak of his bare and setting of to\n",
      "the crowd, how this for all such a faint conversation\n",
      "was as immenial time, and was in a serious friends. Those where was\n",
      "the point of horrible assense-haspence to her story, and had the thoughts in his word. At the\n",
      "sound his contridication, all this carriage to her face.\n",
      "\n",
      "Alexey Alexandrovitch started in a steps to speak at the\n",
      "steps, was its suncounding the subjects in the packed offider.\n",
      "\n",
      "There was a memor of the propored thoughts.\n",
      "\n",
      "The charming words were componed to the crowd with her soul to his\n",
      "back of his heart.\n",
      "\n",
      "\"I did not know how. I shall go.\n",
      "He soothel happy for that shirs in the same thing, and there was the men that the missing of the\n",
      "s\n"
     ]
    }
   ],
   "source": [
    "print(sample(net, 1000, prime='Anna', top_k=5))"
   ]
  },
  {
   "cell_type": "markdown",
   "metadata": {},
   "source": [
    "## Loading a checkpoint"
   ]
  },
  {
   "cell_type": "code",
   "execution_count": 20,
   "metadata": {
    "ExecuteTime": {
     "end_time": "2018-11-24T23:03:15.816798Z",
     "start_time": "2018-11-24T23:03:15.684842Z"
    }
   },
   "outputs": [],
   "source": [
    "# Here we have loaded in a model that trained over 20 epochs `rnn_20_epoch.net`\n",
    "with open('rnn_x_epoch.net', 'rb') as f:\n",
    "    checkpoint = torch.load(f)\n",
    "    \n",
    "loaded = CharRNN(checkpoint['tokens'], n_hidden=checkpoint['n_hidden'], n_layers=checkpoint['n_layers'])\n",
    "loaded.load_state_dict(checkpoint['state_dict'])"
   ]
  },
  {
   "cell_type": "code",
   "execution_count": 21,
   "metadata": {
    "ExecuteTime": {
     "end_time": "2018-11-24T23:03:19.640708Z",
     "start_time": "2018-11-24T23:03:15.821970Z"
    }
   },
   "outputs": [
    {
     "name": "stdout",
     "output_type": "stream",
     "text": [
      "And Levin said to\n",
      "Levin. \"Where's a crowd of hore of the sick ofition, and those impossible\n",
      "supposition...\"\n",
      "\n",
      "\"No, it were so temper. I'm silent to hear twercies, and as though\n",
      "he should be a peasant to be anyone to those and the man trues too,\"\n",
      "said Alexey Alexandrovitch. \"Was mercly for,\n",
      "thinking of him.\"\n",
      "\n",
      "\"You went at the count in a capation, but it will tell him, tilitably,\" answered\n",
      "Alexey Alexandrovitch, and had as throw their his of her collections. \"There are\n",
      "angrily. Those were not to be at the privilest of the sound of\n",
      "her fourse of them.\n",
      "He was at the carms of such a charm to those without having his bablerness to a\n",
      "long attine to the meeding of walking about the same side, and what\n",
      "is to think it were saying it in a sensation. The first mund that\n",
      "in tears, and servants, and significantly with his brandior and hardly transtical\n",
      "from the percoption of the doctors'. And struck out of the sincers and short towards, had said\n",
      "herself to the children who had been attonces to the particular stack, and that\n",
      "was a strange officiar of a pretty treats of talks with all ous one.\n",
      "\n",
      "The stairs, and took the same sometimes were nurse, and as she was\n",
      "saying that he had been still till when they there was so strong as the old man again\n",
      "of taking it, and to said it, and so still much better. But as he\n",
      "did not know. But then he saw that it was to get the\n",
      "same that had said to him about there who had not certainly the fact in her\n",
      "household over and say to this, and his sinterest had seen. The stopity\n",
      "of the country and the first day about the stratgether. He saw them to\n",
      "hims of them, and too had been told the money to see the mother as he wanted to have as hour\n",
      "to be insigned, and he should not have\n",
      "said at the position of the subject with his houses.\n",
      "\n",
      "\"That's not a long while with me.,\" he answered herself. \"There are\n",
      "almost as she's been in the chulches that has a mut of his brother of\n",
      "himself, and he has always done, between me in this circle, but all\n",
      "such a children have the baby.\n",
      "\n",
      "\"Yes,\n"
     ]
    }
   ],
   "source": [
    "# Sample using a loaded model\n",
    "print(sample(loaded, 2000, top_k=5, prime=\"And Levin said\"))"
   ]
  },
  {
   "cell_type": "code",
   "execution_count": null,
   "metadata": {},
   "outputs": [],
   "source": []
  }
 ],
 "metadata": {
  "kernelspec": {
   "display_name": "Python 3",
   "language": "python",
   "name": "python3"
  },
  "language_info": {
   "codemirror_mode": {
    "name": "ipython",
    "version": 3
   },
   "file_extension": ".py",
   "mimetype": "text/x-python",
   "name": "python",
   "nbconvert_exporter": "python",
   "pygments_lexer": "ipython3",
   "version": "3.6.5"
  },
  "varInspector": {
   "cols": {
    "lenName": 16,
    "lenType": 16,
    "lenVar": 40
   },
   "kernels_config": {
    "python": {
     "delete_cmd_postfix": "",
     "delete_cmd_prefix": "del ",
     "library": "var_list.py",
     "varRefreshCmd": "print(var_dic_list())"
    },
    "r": {
     "delete_cmd_postfix": ") ",
     "delete_cmd_prefix": "rm(",
     "library": "var_list.r",
     "varRefreshCmd": "cat(var_dic_list()) "
    }
   },
   "types_to_exclude": [
    "module",
    "function",
    "builtin_function_or_method",
    "instance",
    "_Feature"
   ],
   "window_display": false
  }
 },
 "nbformat": 4,
 "nbformat_minor": 2
}
